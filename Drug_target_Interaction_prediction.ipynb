{
  "nbformat": 4,
  "nbformat_minor": 0,
  "metadata": {
    "colab": {
      "provenance": [],
      "mount_file_id": "1lUzqRJLcxisFC41gCFyhMioVrgUfEXQc",
      "authorship_tag": "ABX9TyOXF1kpfNkYHWU+MKmyMEgg",
      "include_colab_link": true
    },
    "kernelspec": {
      "name": "python3",
      "display_name": "Python 3"
    },
    "language_info": {
      "name": "python"
    }
  },
  "cells": [
    {
      "cell_type": "markdown",
      "metadata": {
        "id": "view-in-github",
        "colab_type": "text"
      },
      "source": [
        "<a href=\"https://colab.research.google.com/github/vishruthakur/drug-target-interaction-prediction/blob/main/Drug_target_Interaction_prediction.ipynb\" target=\"_parent\"><img src=\"https://colab.research.google.com/assets/colab-badge.svg\" alt=\"Open In Colab\"/></a>"
      ]
    },
    {
      "cell_type": "code",
      "execution_count": null,
      "metadata": {
        "id": "wRiOGXVJcbPd",
        "colab": {
          "base_uri": "https://localhost:8080/"
        },
        "outputId": "639dd9a2-1c86-4459-d0e0-8cbfe0e7871e"
      },
      "outputs": [
        {
          "output_type": "stream",
          "name": "stdout",
          "text": [
            "Collecting DeepPurpose\n",
            "  Downloading DeepPurpose-0.1.5.tar.gz (158 kB)\n",
            "\u001b[2K     \u001b[90m━━━━━━━━━━━━━━━━━━━━━━━━━━━━━━━━━━━━━━━━\u001b[0m \u001b[32m158.5/158.5 kB\u001b[0m \u001b[31m12.6 MB/s\u001b[0m eta \u001b[36m0:00:00\u001b[0m\n",
            "\u001b[?25h  Preparing metadata (setup.py) ... \u001b[?25l\u001b[?25hdone\n",
            "Requirement already satisfied: numpy in /usr/local/lib/python3.10/dist-packages (from DeepPurpose) (1.26.4)\n",
            "Requirement already satisfied: pandas in /usr/local/lib/python3.10/dist-packages (from DeepPurpose) (2.2.2)\n",
            "Requirement already satisfied: tqdm in /usr/local/lib/python3.10/dist-packages (from DeepPurpose) (4.66.6)\n",
            "Requirement already satisfied: scikit-learn in /usr/local/lib/python3.10/dist-packages (from DeepPurpose) (1.5.2)\n",
            "Collecting wget (from DeepPurpose)\n",
            "  Downloading wget-3.2.zip (10 kB)\n",
            "  Preparing metadata (setup.py) ... \u001b[?25l\u001b[?25hdone\n",
            "Requirement already satisfied: torch in /usr/local/lib/python3.10/dist-packages (from DeepPurpose) (2.5.0+cu121)\n",
            "Requirement already satisfied: matplotlib in /usr/local/lib/python3.10/dist-packages (from DeepPurpose) (3.8.0)\n",
            "Requirement already satisfied: requests in /usr/local/lib/python3.10/dist-packages (from DeepPurpose) (2.32.3)\n",
            "Collecting pandas-flavor (from DeepPurpose)\n",
            "  Downloading pandas_flavor-0.6.0-py3-none-any.whl.metadata (6.3 kB)\n",
            "Collecting subword-nmt (from DeepPurpose)\n",
            "  Downloading subword_nmt-0.3.8-py3-none-any.whl.metadata (9.2 kB)\n",
            "Collecting lifelines (from DeepPurpose)\n",
            "  Downloading lifelines-0.30.0-py3-none-any.whl.metadata (3.2 kB)\n",
            "Requirement already satisfied: prettytable in /usr/local/lib/python3.10/dist-packages (from DeepPurpose) (3.12.0)\n",
            "Requirement already satisfied: tensorboard in /usr/local/lib/python3.10/dist-packages (from DeepPurpose) (2.17.0)\n",
            "Collecting ax-platform (from DeepPurpose)\n",
            "  Downloading ax_platform-0.4.3-py3-none-any.whl.metadata (11 kB)\n",
            "Collecting dgllife (from DeepPurpose)\n",
            "  Downloading dgllife-0.3.2-py3-none-any.whl.metadata (667 bytes)\n",
            "Collecting botorch==0.12.0 (from ax-platform->DeepPurpose)\n",
            "  Downloading botorch-0.12.0-py3-none-any.whl.metadata (11 kB)\n",
            "Requirement already satisfied: jinja2 in /usr/local/lib/python3.10/dist-packages (from ax-platform->DeepPurpose) (3.1.4)\n",
            "Requirement already satisfied: scipy in /usr/local/lib/python3.10/dist-packages (from ax-platform->DeepPurpose) (1.13.1)\n",
            "Requirement already satisfied: ipywidgets in /usr/local/lib/python3.10/dist-packages (from ax-platform->DeepPurpose) (7.7.1)\n",
            "Requirement already satisfied: plotly>=5.12.0 in /usr/local/lib/python3.10/dist-packages (from ax-platform->DeepPurpose) (5.24.1)\n",
            "Collecting pyre-extensions (from ax-platform->DeepPurpose)\n",
            "  Downloading pyre_extensions-0.0.31-py3-none-any.whl.metadata (4.0 kB)\n",
            "Requirement already satisfied: multipledispatch in /usr/local/lib/python3.10/dist-packages (from botorch==0.12.0->ax-platform->DeepPurpose) (1.0.0)\n",
            "Requirement already satisfied: mpmath<=1.3,>=0.19 in /usr/local/lib/python3.10/dist-packages (from botorch==0.12.0->ax-platform->DeepPurpose) (1.3.0)\n",
            "Collecting pyro-ppl>=1.8.4 (from botorch==0.12.0->ax-platform->DeepPurpose)\n",
            "  Downloading pyro_ppl-1.9.1-py3-none-any.whl.metadata (7.8 kB)\n",
            "Requirement already satisfied: typing-extensions in /usr/local/lib/python3.10/dist-packages (from botorch==0.12.0->ax-platform->DeepPurpose) (4.12.2)\n",
            "Collecting gpytorch==1.13 (from botorch==0.12.0->ax-platform->DeepPurpose)\n",
            "  Downloading gpytorch-1.13-py3-none-any.whl.metadata (8.0 kB)\n",
            "Collecting linear-operator==0.5.3 (from botorch==0.12.0->ax-platform->DeepPurpose)\n",
            "  Downloading linear_operator-0.5.3-py3-none-any.whl.metadata (15 kB)\n",
            "Collecting jaxtyping==0.2.19 (from gpytorch==1.13->botorch==0.12.0->ax-platform->DeepPurpose)\n",
            "  Downloading jaxtyping-0.2.19-py3-none-any.whl.metadata (5.7 kB)\n",
            "Requirement already satisfied: typeguard>=2.13.3 in /usr/local/lib/python3.10/dist-packages (from jaxtyping==0.2.19->gpytorch==1.13->botorch==0.12.0->ax-platform->DeepPurpose) (4.4.1)\n",
            "Requirement already satisfied: filelock in /usr/local/lib/python3.10/dist-packages (from torch->DeepPurpose) (3.16.1)\n",
            "Requirement already satisfied: networkx in /usr/local/lib/python3.10/dist-packages (from torch->DeepPurpose) (3.4.2)\n",
            "Requirement already satisfied: fsspec in /usr/local/lib/python3.10/dist-packages (from torch->DeepPurpose) (2024.10.0)\n",
            "Requirement already satisfied: sympy==1.13.1 in /usr/local/lib/python3.10/dist-packages (from torch->DeepPurpose) (1.13.1)\n",
            "Requirement already satisfied: hyperopt in /usr/local/lib/python3.10/dist-packages (from dgllife->DeepPurpose) (0.2.7)\n",
            "Requirement already satisfied: joblib in /usr/local/lib/python3.10/dist-packages (from dgllife->DeepPurpose) (1.4.2)\n",
            "Requirement already satisfied: charset-normalizer<4,>=2 in /usr/local/lib/python3.10/dist-packages (from requests->DeepPurpose) (3.4.0)\n",
            "Requirement already satisfied: idna<4,>=2.5 in /usr/local/lib/python3.10/dist-packages (from requests->DeepPurpose) (3.10)\n",
            "Requirement already satisfied: urllib3<3,>=1.21.1 in /usr/local/lib/python3.10/dist-packages (from requests->DeepPurpose) (2.2.3)\n",
            "Requirement already satisfied: certifi>=2017.4.17 in /usr/local/lib/python3.10/dist-packages (from requests->DeepPurpose) (2024.8.30)\n",
            "Requirement already satisfied: threadpoolctl>=3.1.0 in /usr/local/lib/python3.10/dist-packages (from scikit-learn->DeepPurpose) (3.5.0)\n",
            "Requirement already satisfied: autograd>=1.5 in /usr/local/lib/python3.10/dist-packages (from lifelines->DeepPurpose) (1.7.0)\n",
            "Collecting autograd-gamma>=0.3 (from lifelines->DeepPurpose)\n",
            "  Downloading autograd-gamma-0.5.0.tar.gz (4.0 kB)\n",
            "  Preparing metadata (setup.py) ... \u001b[?25l\u001b[?25hdone\n",
            "Collecting formulaic>=0.2.2 (from lifelines->DeepPurpose)\n",
            "  Downloading formulaic-1.0.2-py3-none-any.whl.metadata (6.8 kB)\n",
            "Requirement already satisfied: contourpy>=1.0.1 in /usr/local/lib/python3.10/dist-packages (from matplotlib->DeepPurpose) (1.3.0)\n",
            "Requirement already satisfied: cycler>=0.10 in /usr/local/lib/python3.10/dist-packages (from matplotlib->DeepPurpose) (0.12.1)\n",
            "Requirement already satisfied: fonttools>=4.22.0 in /usr/local/lib/python3.10/dist-packages (from matplotlib->DeepPurpose) (4.54.1)\n",
            "Requirement already satisfied: kiwisolver>=1.0.1 in /usr/local/lib/python3.10/dist-packages (from matplotlib->DeepPurpose) (1.4.7)\n",
            "Requirement already satisfied: packaging>=20.0 in /usr/local/lib/python3.10/dist-packages (from matplotlib->DeepPurpose) (24.1)\n",
            "Requirement already satisfied: pillow>=6.2.0 in /usr/local/lib/python3.10/dist-packages (from matplotlib->DeepPurpose) (10.4.0)\n",
            "Requirement already satisfied: pyparsing>=2.3.1 in /usr/local/lib/python3.10/dist-packages (from matplotlib->DeepPurpose) (3.2.0)\n",
            "Requirement already satisfied: python-dateutil>=2.7 in /usr/local/lib/python3.10/dist-packages (from matplotlib->DeepPurpose) (2.8.2)\n",
            "Requirement already satisfied: pytz>=2020.1 in /usr/local/lib/python3.10/dist-packages (from pandas->DeepPurpose) (2024.2)\n",
            "Requirement already satisfied: tzdata>=2022.7 in /usr/local/lib/python3.10/dist-packages (from pandas->DeepPurpose) (2024.2)\n",
            "Requirement already satisfied: xarray in /usr/local/lib/python3.10/dist-packages (from pandas-flavor->DeepPurpose) (2024.10.0)\n",
            "Requirement already satisfied: wcwidth in /usr/local/lib/python3.10/dist-packages (from prettytable->DeepPurpose) (0.2.13)\n",
            "Collecting mock (from subword-nmt->DeepPurpose)\n",
            "  Downloading mock-5.1.0-py3-none-any.whl.metadata (3.0 kB)\n",
            "Requirement already satisfied: absl-py>=0.4 in /usr/local/lib/python3.10/dist-packages (from tensorboard->DeepPurpose) (1.4.0)\n",
            "Requirement already satisfied: grpcio>=1.48.2 in /usr/local/lib/python3.10/dist-packages (from tensorboard->DeepPurpose) (1.64.1)\n",
            "Requirement already satisfied: markdown>=2.6.8 in /usr/local/lib/python3.10/dist-packages (from tensorboard->DeepPurpose) (3.7)\n",
            "Requirement already satisfied: protobuf!=4.24.0,<5.0.0,>=3.19.6 in /usr/local/lib/python3.10/dist-packages (from tensorboard->DeepPurpose) (3.20.3)\n",
            "Requirement already satisfied: setuptools>=41.0.0 in /usr/local/lib/python3.10/dist-packages (from tensorboard->DeepPurpose) (75.1.0)\n",
            "Requirement already satisfied: six>1.9 in /usr/local/lib/python3.10/dist-packages (from tensorboard->DeepPurpose) (1.16.0)\n",
            "Requirement already satisfied: tensorboard-data-server<0.8.0,>=0.7.0 in /usr/local/lib/python3.10/dist-packages (from tensorboard->DeepPurpose) (0.7.2)\n",
            "Requirement already satisfied: werkzeug>=1.0.1 in /usr/local/lib/python3.10/dist-packages (from tensorboard->DeepPurpose) (3.1.2)\n",
            "Collecting interface-meta>=1.2.0 (from formulaic>=0.2.2->lifelines->DeepPurpose)\n",
            "  Downloading interface_meta-1.3.0-py3-none-any.whl.metadata (6.7 kB)\n",
            "Requirement already satisfied: wrapt>=1.0 in /usr/local/lib/python3.10/dist-packages (from formulaic>=0.2.2->lifelines->DeepPurpose) (1.16.0)\n",
            "Requirement already satisfied: tenacity>=6.2.0 in /usr/local/lib/python3.10/dist-packages (from plotly>=5.12.0->ax-platform->DeepPurpose) (9.0.0)\n",
            "Requirement already satisfied: MarkupSafe>=2.1.1 in /usr/local/lib/python3.10/dist-packages (from werkzeug>=1.0.1->tensorboard->DeepPurpose) (3.0.2)\n",
            "Requirement already satisfied: future in /usr/local/lib/python3.10/dist-packages (from hyperopt->dgllife->DeepPurpose) (1.0.0)\n",
            "Requirement already satisfied: cloudpickle in /usr/local/lib/python3.10/dist-packages (from hyperopt->dgllife->DeepPurpose) (3.1.0)\n",
            "Requirement already satisfied: py4j in /usr/local/lib/python3.10/dist-packages (from hyperopt->dgllife->DeepPurpose) (0.10.9.7)\n",
            "Requirement already satisfied: ipykernel>=4.5.1 in /usr/local/lib/python3.10/dist-packages (from ipywidgets->ax-platform->DeepPurpose) (5.5.6)\n",
            "Requirement already satisfied: ipython-genutils~=0.2.0 in /usr/local/lib/python3.10/dist-packages (from ipywidgets->ax-platform->DeepPurpose) (0.2.0)\n",
            "Requirement already satisfied: traitlets>=4.3.1 in /usr/local/lib/python3.10/dist-packages (from ipywidgets->ax-platform->DeepPurpose) (5.7.1)\n",
            "Requirement already satisfied: widgetsnbextension~=3.6.0 in /usr/local/lib/python3.10/dist-packages (from ipywidgets->ax-platform->DeepPurpose) (3.6.10)\n",
            "Requirement already satisfied: ipython>=4.0.0 in /usr/local/lib/python3.10/dist-packages (from ipywidgets->ax-platform->DeepPurpose) (7.34.0)\n",
            "Requirement already satisfied: jupyterlab-widgets>=1.0.0 in /usr/local/lib/python3.10/dist-packages (from ipywidgets->ax-platform->DeepPurpose) (3.0.13)\n",
            "Collecting typing-inspect (from pyre-extensions->ax-platform->DeepPurpose)\n",
            "  Downloading typing_inspect-0.9.0-py3-none-any.whl.metadata (1.5 kB)\n",
            "Requirement already satisfied: jupyter-client in /usr/local/lib/python3.10/dist-packages (from ipykernel>=4.5.1->ipywidgets->ax-platform->DeepPurpose) (6.1.12)\n",
            "Requirement already satisfied: tornado>=4.2 in /usr/local/lib/python3.10/dist-packages (from ipykernel>=4.5.1->ipywidgets->ax-platform->DeepPurpose) (6.3.3)\n",
            "Collecting jedi>=0.16 (from ipython>=4.0.0->ipywidgets->ax-platform->DeepPurpose)\n",
            "  Downloading jedi-0.19.2-py2.py3-none-any.whl.metadata (22 kB)\n",
            "Requirement already satisfied: decorator in /usr/local/lib/python3.10/dist-packages (from ipython>=4.0.0->ipywidgets->ax-platform->DeepPurpose) (4.4.2)\n",
            "Requirement already satisfied: pickleshare in /usr/local/lib/python3.10/dist-packages (from ipython>=4.0.0->ipywidgets->ax-platform->DeepPurpose) (0.7.5)\n",
            "Requirement already satisfied: prompt-toolkit!=3.0.0,!=3.0.1,<3.1.0,>=2.0.0 in /usr/local/lib/python3.10/dist-packages (from ipython>=4.0.0->ipywidgets->ax-platform->DeepPurpose) (3.0.48)\n",
            "Requirement already satisfied: pygments in /usr/local/lib/python3.10/dist-packages (from ipython>=4.0.0->ipywidgets->ax-platform->DeepPurpose) (2.18.0)\n",
            "Requirement already satisfied: backcall in /usr/local/lib/python3.10/dist-packages (from ipython>=4.0.0->ipywidgets->ax-platform->DeepPurpose) (0.2.0)\n",
            "Requirement already satisfied: matplotlib-inline in /usr/local/lib/python3.10/dist-packages (from ipython>=4.0.0->ipywidgets->ax-platform->DeepPurpose) (0.1.7)\n",
            "Requirement already satisfied: pexpect>4.3 in /usr/local/lib/python3.10/dist-packages (from ipython>=4.0.0->ipywidgets->ax-platform->DeepPurpose) (4.9.0)\n",
            "Requirement already satisfied: opt-einsum>=2.3.2 in /usr/local/lib/python3.10/dist-packages (from pyro-ppl>=1.8.4->botorch==0.12.0->ax-platform->DeepPurpose) (3.4.0)\n",
            "Collecting pyro-api>=0.1.1 (from pyro-ppl>=1.8.4->botorch==0.12.0->ax-platform->DeepPurpose)\n",
            "  Downloading pyro_api-0.1.2-py3-none-any.whl.metadata (2.5 kB)\n",
            "Requirement already satisfied: notebook>=4.4.1 in /usr/local/lib/python3.10/dist-packages (from widgetsnbextension~=3.6.0->ipywidgets->ax-platform->DeepPurpose) (6.5.5)\n",
            "Collecting mypy-extensions>=0.3.0 (from typing-inspect->pyre-extensions->ax-platform->DeepPurpose)\n",
            "  Downloading mypy_extensions-1.0.0-py3-none-any.whl.metadata (1.1 kB)\n",
            "Requirement already satisfied: parso<0.9.0,>=0.8.4 in /usr/local/lib/python3.10/dist-packages (from jedi>=0.16->ipython>=4.0.0->ipywidgets->ax-platform->DeepPurpose) (0.8.4)\n",
            "Requirement already satisfied: pyzmq<25,>=17 in /usr/local/lib/python3.10/dist-packages (from notebook>=4.4.1->widgetsnbextension~=3.6.0->ipywidgets->ax-platform->DeepPurpose) (24.0.1)\n",
            "Requirement already satisfied: argon2-cffi in /usr/local/lib/python3.10/dist-packages (from notebook>=4.4.1->widgetsnbextension~=3.6.0->ipywidgets->ax-platform->DeepPurpose) (23.1.0)\n",
            "Requirement already satisfied: jupyter-core>=4.6.1 in /usr/local/lib/python3.10/dist-packages (from notebook>=4.4.1->widgetsnbextension~=3.6.0->ipywidgets->ax-platform->DeepPurpose) (5.7.2)\n",
            "Requirement already satisfied: nbformat in /usr/local/lib/python3.10/dist-packages (from notebook>=4.4.1->widgetsnbextension~=3.6.0->ipywidgets->ax-platform->DeepPurpose) (5.10.4)\n",
            "Requirement already satisfied: nbconvert>=5 in /usr/local/lib/python3.10/dist-packages (from notebook>=4.4.1->widgetsnbextension~=3.6.0->ipywidgets->ax-platform->DeepPurpose) (7.16.4)\n",
            "Requirement already satisfied: nest-asyncio>=1.5 in /usr/local/lib/python3.10/dist-packages (from notebook>=4.4.1->widgetsnbextension~=3.6.0->ipywidgets->ax-platform->DeepPurpose) (1.6.0)\n",
            "Requirement already satisfied: Send2Trash>=1.8.0 in /usr/local/lib/python3.10/dist-packages (from notebook>=4.4.1->widgetsnbextension~=3.6.0->ipywidgets->ax-platform->DeepPurpose) (1.8.3)\n",
            "Requirement already satisfied: terminado>=0.8.3 in /usr/local/lib/python3.10/dist-packages (from notebook>=4.4.1->widgetsnbextension~=3.6.0->ipywidgets->ax-platform->DeepPurpose) (0.18.1)\n",
            "Requirement already satisfied: prometheus-client in /usr/local/lib/python3.10/dist-packages (from notebook>=4.4.1->widgetsnbextension~=3.6.0->ipywidgets->ax-platform->DeepPurpose) (0.21.0)\n",
            "Requirement already satisfied: nbclassic>=0.4.7 in /usr/local/lib/python3.10/dist-packages (from notebook>=4.4.1->widgetsnbextension~=3.6.0->ipywidgets->ax-platform->DeepPurpose) (1.1.0)\n",
            "Requirement already satisfied: ptyprocess>=0.5 in /usr/local/lib/python3.10/dist-packages (from pexpect>4.3->ipython>=4.0.0->ipywidgets->ax-platform->DeepPurpose) (0.7.0)\n",
            "Requirement already satisfied: platformdirs>=2.5 in /usr/local/lib/python3.10/dist-packages (from jupyter-core>=4.6.1->notebook>=4.4.1->widgetsnbextension~=3.6.0->ipywidgets->ax-platform->DeepPurpose) (4.3.6)\n",
            "Requirement already satisfied: notebook-shim>=0.2.3 in /usr/local/lib/python3.10/dist-packages (from nbclassic>=0.4.7->notebook>=4.4.1->widgetsnbextension~=3.6.0->ipywidgets->ax-platform->DeepPurpose) (0.2.4)\n",
            "Requirement already satisfied: beautifulsoup4 in /usr/local/lib/python3.10/dist-packages (from nbconvert>=5->notebook>=4.4.1->widgetsnbextension~=3.6.0->ipywidgets->ax-platform->DeepPurpose) (4.12.3)\n",
            "Requirement already satisfied: bleach!=5.0.0 in /usr/local/lib/python3.10/dist-packages (from nbconvert>=5->notebook>=4.4.1->widgetsnbextension~=3.6.0->ipywidgets->ax-platform->DeepPurpose) (6.2.0)\n",
            "Requirement already satisfied: defusedxml in /usr/local/lib/python3.10/dist-packages (from nbconvert>=5->notebook>=4.4.1->widgetsnbextension~=3.6.0->ipywidgets->ax-platform->DeepPurpose) (0.7.1)\n",
            "Requirement already satisfied: jupyterlab-pygments in /usr/local/lib/python3.10/dist-packages (from nbconvert>=5->notebook>=4.4.1->widgetsnbextension~=3.6.0->ipywidgets->ax-platform->DeepPurpose) (0.3.0)\n",
            "Requirement already satisfied: mistune<4,>=2.0.3 in /usr/local/lib/python3.10/dist-packages (from nbconvert>=5->notebook>=4.4.1->widgetsnbextension~=3.6.0->ipywidgets->ax-platform->DeepPurpose) (3.0.2)\n",
            "Requirement already satisfied: nbclient>=0.5.0 in /usr/local/lib/python3.10/dist-packages (from nbconvert>=5->notebook>=4.4.1->widgetsnbextension~=3.6.0->ipywidgets->ax-platform->DeepPurpose) (0.10.0)\n",
            "Requirement already satisfied: pandocfilters>=1.4.1 in /usr/local/lib/python3.10/dist-packages (from nbconvert>=5->notebook>=4.4.1->widgetsnbextension~=3.6.0->ipywidgets->ax-platform->DeepPurpose) (1.5.1)\n",
            "Requirement already satisfied: tinycss2 in /usr/local/lib/python3.10/dist-packages (from nbconvert>=5->notebook>=4.4.1->widgetsnbextension~=3.6.0->ipywidgets->ax-platform->DeepPurpose) (1.4.0)\n",
            "Requirement already satisfied: fastjsonschema>=2.15 in /usr/local/lib/python3.10/dist-packages (from nbformat->notebook>=4.4.1->widgetsnbextension~=3.6.0->ipywidgets->ax-platform->DeepPurpose) (2.20.0)\n",
            "Requirement already satisfied: jsonschema>=2.6 in /usr/local/lib/python3.10/dist-packages (from nbformat->notebook>=4.4.1->widgetsnbextension~=3.6.0->ipywidgets->ax-platform->DeepPurpose) (4.23.0)\n",
            "Requirement already satisfied: argon2-cffi-bindings in /usr/local/lib/python3.10/dist-packages (from argon2-cffi->notebook>=4.4.1->widgetsnbextension~=3.6.0->ipywidgets->ax-platform->DeepPurpose) (21.2.0)\n",
            "Requirement already satisfied: webencodings in /usr/local/lib/python3.10/dist-packages (from bleach!=5.0.0->nbconvert>=5->notebook>=4.4.1->widgetsnbextension~=3.6.0->ipywidgets->ax-platform->DeepPurpose) (0.5.1)\n",
            "Requirement already satisfied: attrs>=22.2.0 in /usr/local/lib/python3.10/dist-packages (from jsonschema>=2.6->nbformat->notebook>=4.4.1->widgetsnbextension~=3.6.0->ipywidgets->ax-platform->DeepPurpose) (24.2.0)\n",
            "Requirement already satisfied: jsonschema-specifications>=2023.03.6 in /usr/local/lib/python3.10/dist-packages (from jsonschema>=2.6->nbformat->notebook>=4.4.1->widgetsnbextension~=3.6.0->ipywidgets->ax-platform->DeepPurpose) (2024.10.1)\n",
            "Requirement already satisfied: referencing>=0.28.4 in /usr/local/lib/python3.10/dist-packages (from jsonschema>=2.6->nbformat->notebook>=4.4.1->widgetsnbextension~=3.6.0->ipywidgets->ax-platform->DeepPurpose) (0.35.1)\n",
            "Requirement already satisfied: rpds-py>=0.7.1 in /usr/local/lib/python3.10/dist-packages (from jsonschema>=2.6->nbformat->notebook>=4.4.1->widgetsnbextension~=3.6.0->ipywidgets->ax-platform->DeepPurpose) (0.20.1)\n",
            "Requirement already satisfied: jupyter-server<3,>=1.8 in /usr/local/lib/python3.10/dist-packages (from notebook-shim>=0.2.3->nbclassic>=0.4.7->notebook>=4.4.1->widgetsnbextension~=3.6.0->ipywidgets->ax-platform->DeepPurpose) (1.24.0)\n",
            "Requirement already satisfied: cffi>=1.0.1 in /usr/local/lib/python3.10/dist-packages (from argon2-cffi-bindings->argon2-cffi->notebook>=4.4.1->widgetsnbextension~=3.6.0->ipywidgets->ax-platform->DeepPurpose) (1.17.1)\n",
            "Requirement already satisfied: soupsieve>1.2 in /usr/local/lib/python3.10/dist-packages (from beautifulsoup4->nbconvert>=5->notebook>=4.4.1->widgetsnbextension~=3.6.0->ipywidgets->ax-platform->DeepPurpose) (2.6)\n",
            "Requirement already satisfied: pycparser in /usr/local/lib/python3.10/dist-packages (from cffi>=1.0.1->argon2-cffi-bindings->argon2-cffi->notebook>=4.4.1->widgetsnbextension~=3.6.0->ipywidgets->ax-platform->DeepPurpose) (2.22)\n",
            "Requirement already satisfied: anyio<4,>=3.1.0 in /usr/local/lib/python3.10/dist-packages (from jupyter-server<3,>=1.8->notebook-shim>=0.2.3->nbclassic>=0.4.7->notebook>=4.4.1->widgetsnbextension~=3.6.0->ipywidgets->ax-platform->DeepPurpose) (3.7.1)\n",
            "Requirement already satisfied: websocket-client in /usr/local/lib/python3.10/dist-packages (from jupyter-server<3,>=1.8->notebook-shim>=0.2.3->nbclassic>=0.4.7->notebook>=4.4.1->widgetsnbextension~=3.6.0->ipywidgets->ax-platform->DeepPurpose) (1.8.0)\n",
            "Requirement already satisfied: sniffio>=1.1 in /usr/local/lib/python3.10/dist-packages (from anyio<4,>=3.1.0->jupyter-server<3,>=1.8->notebook-shim>=0.2.3->nbclassic>=0.4.7->notebook>=4.4.1->widgetsnbextension~=3.6.0->ipywidgets->ax-platform->DeepPurpose) (1.3.1)\n",
            "Requirement already satisfied: exceptiongroup in /usr/local/lib/python3.10/dist-packages (from anyio<4,>=3.1.0->jupyter-server<3,>=1.8->notebook-shim>=0.2.3->nbclassic>=0.4.7->notebook>=4.4.1->widgetsnbextension~=3.6.0->ipywidgets->ax-platform->DeepPurpose) (1.2.2)\n",
            "Downloading ax_platform-0.4.3-py3-none-any.whl (1.3 MB)\n",
            "\u001b[2K   \u001b[90m━━━━━━━━━━━━━━━━━━━━━━━━━━━━━━━━━━━━━━━━\u001b[0m \u001b[32m1.3/1.3 MB\u001b[0m \u001b[31m52.9 MB/s\u001b[0m eta \u001b[36m0:00:00\u001b[0m\n",
            "\u001b[?25hDownloading botorch-0.12.0-py3-none-any.whl (644 kB)\n",
            "\u001b[2K   \u001b[90m━━━━━━━━━━━━━━━━━━━━━━━━━━━━━━━━━━━━━━━━\u001b[0m \u001b[32m644.8/644.8 kB\u001b[0m \u001b[31m38.0 MB/s\u001b[0m eta \u001b[36m0:00:00\u001b[0m\n",
            "\u001b[?25hDownloading gpytorch-1.13-py3-none-any.whl (277 kB)\n",
            "\u001b[2K   \u001b[90m━━━━━━━━━━━━━━━━━━━━━━━━━━━━━━━━━━━━━━━━\u001b[0m \u001b[32m277.8/277.8 kB\u001b[0m \u001b[31m3.4 MB/s\u001b[0m eta \u001b[36m0:00:00\u001b[0m\n",
            "\u001b[?25hDownloading linear_operator-0.5.3-py3-none-any.whl (176 kB)\n",
            "\u001b[2K   \u001b[90m━━━━━━━━━━━━━━━━━━━━━━━━━━━━━━━━━━━━━━━━\u001b[0m \u001b[32m176.4/176.4 kB\u001b[0m \u001b[31m15.3 MB/s\u001b[0m eta \u001b[36m0:00:00\u001b[0m\n",
            "\u001b[?25hDownloading jaxtyping-0.2.19-py3-none-any.whl (24 kB)\n",
            "Downloading dgllife-0.3.2-py3-none-any.whl (226 kB)\n",
            "\u001b[2K   \u001b[90m━━━━━━━━━━━━━━━━━━━━━━━━━━━━━━━━━━━━━━━━\u001b[0m \u001b[32m226.1/226.1 kB\u001b[0m \u001b[31m6.5 MB/s\u001b[0m eta \u001b[36m0:00:00\u001b[0m\n",
            "\u001b[?25hDownloading lifelines-0.30.0-py3-none-any.whl (349 kB)\n",
            "\u001b[2K   \u001b[90m━━━━━━━━━━━━━━━━━━━━━━━━━━━━━━━━━━━━━━━━\u001b[0m \u001b[32m349.3/349.3 kB\u001b[0m \u001b[31m28.0 MB/s\u001b[0m eta \u001b[36m0:00:00\u001b[0m\n",
            "\u001b[?25hDownloading pandas_flavor-0.6.0-py3-none-any.whl (7.2 kB)\n",
            "Downloading subword_nmt-0.3.8-py3-none-any.whl (27 kB)\n",
            "Downloading formulaic-1.0.2-py3-none-any.whl (94 kB)\n",
            "\u001b[2K   \u001b[90m━━━━━━━━━━━━━━━━━━━━━━━━━━━━━━━━━━━━━━━━\u001b[0m \u001b[32m94.5/94.5 kB\u001b[0m \u001b[31m8.7 MB/s\u001b[0m eta \u001b[36m0:00:00\u001b[0m\n",
            "\u001b[?25hDownloading mock-5.1.0-py3-none-any.whl (30 kB)\n",
            "Downloading pyre_extensions-0.0.31-py3-none-any.whl (12 kB)\n",
            "Downloading interface_meta-1.3.0-py3-none-any.whl (14 kB)\n",
            "Downloading pyro_ppl-1.9.1-py3-none-any.whl (755 kB)\n",
            "\u001b[2K   \u001b[90m━━━━━━━━━━━━━━━━━━━━━━━━━━━━━━━━━━━━━━━━\u001b[0m \u001b[32m756.0/756.0 kB\u001b[0m \u001b[31m37.6 MB/s\u001b[0m eta \u001b[36m0:00:00\u001b[0m\n",
            "\u001b[?25hDownloading typing_inspect-0.9.0-py3-none-any.whl (8.8 kB)\n",
            "Downloading jedi-0.19.2-py2.py3-none-any.whl (1.6 MB)\n",
            "\u001b[2K   \u001b[90m━━━━━━━━━━━━━━━━━━━━━━━━━━━━━━━━━━━━━━━━\u001b[0m \u001b[32m1.6/1.6 MB\u001b[0m \u001b[31m74.3 MB/s\u001b[0m eta \u001b[36m0:00:00\u001b[0m\n",
            "\u001b[?25hDownloading mypy_extensions-1.0.0-py3-none-any.whl (4.7 kB)\n",
            "Downloading pyro_api-0.1.2-py3-none-any.whl (11 kB)\n",
            "Building wheels for collected packages: DeepPurpose, wget, autograd-gamma\n",
            "  Building wheel for DeepPurpose (setup.py) ... \u001b[?25l\u001b[?25hdone\n",
            "  Created wheel for DeepPurpose: filename=DeepPurpose-0.1.5-py3-none-any.whl size=155659 sha256=16af5554d56bdfadd224b554cfbb2c8efd5dec67cbe9feeb7937b17924523038\n",
            "  Stored in directory: /root/.cache/pip/wheels/f5/22/41/df41608686118cc70f8ad0e1914afa2859d507a8558cefdeaf\n",
            "  Building wheel for wget (setup.py) ... \u001b[?25l\u001b[?25hdone\n",
            "  Created wheel for wget: filename=wget-3.2-py3-none-any.whl size=9656 sha256=556a2ddb7f03f48d0d79c37c5008146dee0f64cf010ce3a3f6442bc208914cd1\n",
            "  Stored in directory: /root/.cache/pip/wheels/8b/f1/7f/5c94f0a7a505ca1c81cd1d9208ae2064675d97582078e6c769\n",
            "  Building wheel for autograd-gamma (setup.py) ... \u001b[?25l\u001b[?25hdone\n",
            "  Created wheel for autograd-gamma: filename=autograd_gamma-0.5.0-py3-none-any.whl size=4031 sha256=6f56c9e8b1eb4edc9958b451bf353af309234460db269bfcf9f96d7ce70ea00a\n",
            "  Stored in directory: /root/.cache/pip/wheels/25/cc/e0/ef2969164144c899fedb22b338f6703e2b9cf46eeebf254991\n",
            "Successfully built DeepPurpose wget autograd-gamma\n",
            "Installing collected packages: wget, pyro-api, mypy-extensions, mock, jedi, interface-meta, typing-inspect, subword-nmt, jaxtyping, autograd-gamma, pyro-ppl, pyre-extensions, linear-operator, formulaic, dgllife, pandas-flavor, lifelines, gpytorch, botorch, ax-platform, DeepPurpose\n",
            "Successfully installed DeepPurpose-0.1.5 autograd-gamma-0.5.0 ax-platform-0.4.3 botorch-0.12.0 dgllife-0.3.2 formulaic-1.0.2 gpytorch-1.13 interface-meta-1.3.0 jaxtyping-0.2.19 jedi-0.19.2 lifelines-0.30.0 linear-operator-0.5.3 mock-5.1.0 mypy-extensions-1.0.0 pandas-flavor-0.6.0 pyre-extensions-0.0.31 pyro-api-0.1.2 pyro-ppl-1.9.1 subword-nmt-0.3.8 typing-inspect-0.9.0 wget-3.2\n"
          ]
        }
      ],
      "source": [
        "!pip install DeepPurpose"
      ]
    },
    {
      "cell_type": "code",
      "source": [
        "!pip install rdkit-pypi"
      ],
      "metadata": {
        "colab": {
          "base_uri": "https://localhost:8080/"
        },
        "id": "DboH9wIQ8RAI",
        "outputId": "f6c9e93c-7b1c-4381-c522-a5868528e317"
      },
      "execution_count": null,
      "outputs": [
        {
          "output_type": "stream",
          "name": "stdout",
          "text": [
            "Collecting rdkit-pypi\n",
            "  Downloading rdkit_pypi-2022.9.5-cp310-cp310-manylinux_2_17_x86_64.manylinux2014_x86_64.whl.metadata (3.9 kB)\n",
            "Requirement already satisfied: numpy in /usr/local/lib/python3.10/dist-packages (from rdkit-pypi) (1.26.4)\n",
            "Requirement already satisfied: Pillow in /usr/local/lib/python3.10/dist-packages (from rdkit-pypi) (10.4.0)\n",
            "Downloading rdkit_pypi-2022.9.5-cp310-cp310-manylinux_2_17_x86_64.manylinux2014_x86_64.whl (29.4 MB)\n",
            "\u001b[2K   \u001b[90m━━━━━━━━━━━━━━━━━━━━━━━━━━━━━━━━━━━━━━━━\u001b[0m \u001b[32m29.4/29.4 MB\u001b[0m \u001b[31m58.1 MB/s\u001b[0m eta \u001b[36m0:00:00\u001b[0m\n",
            "\u001b[?25hInstalling collected packages: rdkit-pypi\n",
            "Successfully installed rdkit-pypi-2022.9.5\n"
          ]
        }
      ]
    },
    {
      "cell_type": "code",
      "source": [
        "!pip install git+https://github.com/bp-kelley/descriptastorus\n",
        "!pip install pandas-flavor"
      ],
      "metadata": {
        "colab": {
          "base_uri": "https://localhost:8080/"
        },
        "id": "3ooUH1EX8T_N",
        "outputId": "9036fbaf-dcdf-47e2-90ed-5349302542a0"
      },
      "execution_count": null,
      "outputs": [
        {
          "output_type": "stream",
          "name": "stdout",
          "text": [
            "Collecting git+https://github.com/bp-kelley/descriptastorus\n",
            "  Cloning https://github.com/bp-kelley/descriptastorus to /tmp/pip-req-build-eg1nxg0t\n",
            "  Running command git clone --filter=blob:none --quiet https://github.com/bp-kelley/descriptastorus /tmp/pip-req-build-eg1nxg0t\n",
            "  Resolved https://github.com/bp-kelley/descriptastorus to commit 9a190343bcd3cfd35142d378d952613bcac40797\n",
            "  Preparing metadata (setup.py) ... \u001b[?25l\u001b[?25hdone\n",
            "Requirement already satisfied: pandas_flavor in /usr/local/lib/python3.10/dist-packages (from descriptastorus==2.7.0.3) (0.6.0)\n",
            "Collecting rdkit (from descriptastorus==2.7.0.3)\n",
            "  Downloading rdkit-2024.3.6-cp310-cp310-manylinux_2_28_x86_64.whl.metadata (4.0 kB)\n",
            "Requirement already satisfied: scipy in /usr/local/lib/python3.10/dist-packages (from descriptastorus==2.7.0.3) (1.13.1)\n",
            "Requirement already satisfied: numpy in /usr/local/lib/python3.10/dist-packages (from descriptastorus==2.7.0.3) (1.26.4)\n",
            "Requirement already satisfied: pandas>=0.23 in /usr/local/lib/python3.10/dist-packages (from pandas_flavor->descriptastorus==2.7.0.3) (2.2.2)\n",
            "Requirement already satisfied: xarray in /usr/local/lib/python3.10/dist-packages (from pandas_flavor->descriptastorus==2.7.0.3) (2024.10.0)\n",
            "Requirement already satisfied: Pillow in /usr/local/lib/python3.10/dist-packages (from rdkit->descriptastorus==2.7.0.3) (10.4.0)\n",
            "Requirement already satisfied: python-dateutil>=2.8.2 in /usr/local/lib/python3.10/dist-packages (from pandas>=0.23->pandas_flavor->descriptastorus==2.7.0.3) (2.8.2)\n",
            "Requirement already satisfied: pytz>=2020.1 in /usr/local/lib/python3.10/dist-packages (from pandas>=0.23->pandas_flavor->descriptastorus==2.7.0.3) (2024.2)\n",
            "Requirement already satisfied: tzdata>=2022.7 in /usr/local/lib/python3.10/dist-packages (from pandas>=0.23->pandas_flavor->descriptastorus==2.7.0.3) (2024.2)\n",
            "Requirement already satisfied: packaging>=23.1 in /usr/local/lib/python3.10/dist-packages (from xarray->pandas_flavor->descriptastorus==2.7.0.3) (24.1)\n",
            "Requirement already satisfied: six>=1.5 in /usr/local/lib/python3.10/dist-packages (from python-dateutil>=2.8.2->pandas>=0.23->pandas_flavor->descriptastorus==2.7.0.3) (1.16.0)\n",
            "Downloading rdkit-2024.3.6-cp310-cp310-manylinux_2_28_x86_64.whl (32.8 MB)\n",
            "\u001b[2K   \u001b[90m━━━━━━━━━━━━━━━━━━━━━━━━━━━━━━━━━━━━━━━━\u001b[0m \u001b[32m32.8/32.8 MB\u001b[0m \u001b[31m18.4 MB/s\u001b[0m eta \u001b[36m0:00:00\u001b[0m\n",
            "\u001b[?25hBuilding wheels for collected packages: descriptastorus\n",
            "  Building wheel for descriptastorus (setup.py) ... \u001b[?25l\u001b[?25hdone\n",
            "  Created wheel for descriptastorus: filename=descriptastorus-2.7.0.3-py3-none-any.whl size=1082894 sha256=1f4bb2c9e8a6b202f6f740bad702d07298e085edcef76da953b736302679ad4f\n",
            "  Stored in directory: /tmp/pip-ephem-wheel-cache-kdlqifqc/wheels/b0/91/ea/7e8b56f17611c9bebc7f08065799bd317abd64f066463e2e8a\n",
            "Successfully built descriptastorus\n",
            "Installing collected packages: rdkit, descriptastorus\n",
            "Successfully installed descriptastorus-2.7.0.3 rdkit-2024.3.6\n",
            "Requirement already satisfied: pandas-flavor in /usr/local/lib/python3.10/dist-packages (0.6.0)\n",
            "Requirement already satisfied: pandas>=0.23 in /usr/local/lib/python3.10/dist-packages (from pandas-flavor) (2.2.2)\n",
            "Requirement already satisfied: xarray in /usr/local/lib/python3.10/dist-packages (from pandas-flavor) (2024.10.0)\n",
            "Requirement already satisfied: numpy>=1.22.4 in /usr/local/lib/python3.10/dist-packages (from pandas>=0.23->pandas-flavor) (1.26.4)\n",
            "Requirement already satisfied: python-dateutil>=2.8.2 in /usr/local/lib/python3.10/dist-packages (from pandas>=0.23->pandas-flavor) (2.8.2)\n",
            "Requirement already satisfied: pytz>=2020.1 in /usr/local/lib/python3.10/dist-packages (from pandas>=0.23->pandas-flavor) (2024.2)\n",
            "Requirement already satisfied: tzdata>=2022.7 in /usr/local/lib/python3.10/dist-packages (from pandas>=0.23->pandas-flavor) (2024.2)\n",
            "Requirement already satisfied: packaging>=23.1 in /usr/local/lib/python3.10/dist-packages (from xarray->pandas-flavor) (24.1)\n",
            "Requirement already satisfied: six>=1.5 in /usr/local/lib/python3.10/dist-packages (from python-dateutil>=2.8.2->pandas>=0.23->pandas-flavor) (1.16.0)\n"
          ]
        }
      ]
    },
    {
      "cell_type": "code",
      "source": [
        "from DeepPurpose import utils, dataset\n",
        "from DeepPurpose import DTI as models\n",
        "import warnings\n",
        "warnings.filterwarnings(\"ignore\")"
      ],
      "metadata": {
        "id": "KtNeXoXU8Tu7"
      },
      "execution_count": null,
      "outputs": []
    },
    {
      "cell_type": "code",
      "source": [
        "from google.colab import drive\n",
        "drive.mount('/content/drive')"
      ],
      "metadata": {
        "colab": {
          "base_uri": "https://localhost:8080/"
        },
        "id": "EruLWkyT8OUb",
        "outputId": "1fa625fe-4b3f-4612-d7c0-de7335d98f29"
      },
      "execution_count": null,
      "outputs": [
        {
          "output_type": "stream",
          "name": "stdout",
          "text": [
            "Drive already mounted at /content/drive; to attempt to forcibly remount, call drive.mount(\"/content/drive\", force_remount=True).\n"
          ]
        }
      ]
    },
    {
      "cell_type": "code",
      "source": [
        "X_drugs, X_targets, y = dataset.load_process_DAVIS(path = './data', binary = False, convert_to_log = True, threshold = 30)\n",
        "print('Drug 1: ' + X_drugs[111])\n",
        "print('Target 1: ' + X_targets[111])\n",
        "print('Score 1: ' + str(y[111]))"
      ],
      "metadata": {
        "colab": {
          "base_uri": "https://localhost:8080/"
        },
        "id": "XzGSQg9o8roB",
        "outputId": "df8e5fcf-814d-4284-be2d-82cb8cd85ce7"
      },
      "execution_count": null,
      "outputs": [
        {
          "output_type": "stream",
          "name": "stdout",
          "text": [
            "Beginning Processing...\n",
            "Beginning to extract zip file...\n",
            "Default set to logspace (nM -> p) for easier regression\n",
            "Done!\n",
            "Drug 1: CC1=C2C=C(C=CC2=NN1)C3=CC(=CN=C3)OCC(CC4=CC=CC=C4)N\n",
            "Target 1: MLTRKPSAAAPAAYPTGRGGDSAVRQLQASPGLGAGATRSGVGTGPPSPIALPPLRASNAAAAAHTIGGSKHTMNDHLHVGSHAHGQIQVQQLFEDNSNKRTVLTTQPNGLTTVGKTGLPVVPERQLDSIHRRQGSSTSLKSMEGMGKVKATPMTPEQAMKQYMQKLTAFEHHEIFSYPEIYFLGLNAKKRQGMTGGPNNGGYDDDQGSYVQVPHDHVAYRYEVLKVIGKGSFGQVVKAYDHKVHQHVALKMVRNEKRFHRQAAEEIRILEHLRKQDKDNTMNVIHMLENFTFRNHICMTFELLSMNLYELIKKNKFQGFSLPLVRKFAHSILQCLDALHKNRIIHCDLKPENILLKQQGRSGIKVIDFGSSCYEHQRVYTYIQSRFYRAPEVILGARYGMPIDMWSLGCILAELLTGYPLLPGEDEGDQLACMIELLGMPSQKLLDASKRAKNFVSSKGYPRYCTVTTLSDGSVVLNGGRSRRGKLRGPPESREWGNALKGCDDPLFLDFLKQCLEWDPAVRMTPGQALRHPWLRRRLPKPPTGEKTSVKRITESTGAITSISKLPPPSSSASKLRTNLAQMTDANGNIQQRTVLPKLVS\n",
            "Score 1: 7.200659450546418\n"
          ]
        }
      ]
    },
    {
      "cell_type": "code",
      "source": [
        "drug_encoding, target_encoding = 'MPNN', 'CNN'"
      ],
      "metadata": {
        "id": "se_lm6fA8wbh"
      },
      "execution_count": null,
      "outputs": []
    },
    {
      "cell_type": "code",
      "source": [
        "train, val, test = utils.data_process(X_drugs, X_targets, y,\n",
        "                                drug_encoding, target_encoding,\n",
        "                                split_method='random',frac=[0.7,0.1,0.2],\n",
        "                                random_seed = 1)\n",
        "train.head(1)"
      ],
      "metadata": {
        "colab": {
          "base_uri": "https://localhost:8080/",
          "height": 287
        },
        "id": "5o0KuCwB8z79",
        "outputId": "83f98b38-64cb-45f9-b93c-418b2fb496d3"
      },
      "execution_count": null,
      "outputs": [
        {
          "output_type": "stream",
          "name": "stdout",
          "text": [
            "Drug Target Interaction Prediction Mode...\n",
            "in total: 30056 drug-target pairs\n",
            "encoding drug...\n",
            "unique drugs: 68\n",
            "encoding protein...\n",
            "unique target sequence: 379\n",
            "splitting dataset...\n",
            "Done.\n"
          ]
        },
        {
          "output_type": "execute_result",
          "data": {
            "text/plain": [
              "                                              SMILES  \\\n",
              "0  CC1=C2C=C(C=CC2=NN1)C3=CC(=CN=C3)OCC(CC4=CC=CC...   \n",
              "\n",
              "                                     Target Sequence  Label  \\\n",
              "0  PFWKILNPLLERGTYYYFMGQQPGKVLGDQRRPSLPALHFIKGAGK...    5.0   \n",
              "\n",
              "                                       drug_encoding  \\\n",
              "0  [[[tensor(1.), tensor(0.), tensor(0.), tensor(...   \n",
              "\n",
              "                                     target_encoding  \n",
              "0  [P, F, W, K, I, L, N, P, L, L, E, R, G, T, Y, ...  "
            ],
            "text/html": [
              "\n",
              "  <div id=\"df-156b3792-0b25-438f-a773-4ff0ca3f896c\" class=\"colab-df-container\">\n",
              "    <div>\n",
              "<style scoped>\n",
              "    .dataframe tbody tr th:only-of-type {\n",
              "        vertical-align: middle;\n",
              "    }\n",
              "\n",
              "    .dataframe tbody tr th {\n",
              "        vertical-align: top;\n",
              "    }\n",
              "\n",
              "    .dataframe thead th {\n",
              "        text-align: right;\n",
              "    }\n",
              "</style>\n",
              "<table border=\"1\" class=\"dataframe\">\n",
              "  <thead>\n",
              "    <tr style=\"text-align: right;\">\n",
              "      <th></th>\n",
              "      <th>SMILES</th>\n",
              "      <th>Target Sequence</th>\n",
              "      <th>Label</th>\n",
              "      <th>drug_encoding</th>\n",
              "      <th>target_encoding</th>\n",
              "    </tr>\n",
              "  </thead>\n",
              "  <tbody>\n",
              "    <tr>\n",
              "      <th>0</th>\n",
              "      <td>CC1=C2C=C(C=CC2=NN1)C3=CC(=CN=C3)OCC(CC4=CC=CC...</td>\n",
              "      <td>PFWKILNPLLERGTYYYFMGQQPGKVLGDQRRPSLPALHFIKGAGK...</td>\n",
              "      <td>5.0</td>\n",
              "      <td>[[[tensor(1.), tensor(0.), tensor(0.), tensor(...</td>\n",
              "      <td>[P, F, W, K, I, L, N, P, L, L, E, R, G, T, Y, ...</td>\n",
              "    </tr>\n",
              "  </tbody>\n",
              "</table>\n",
              "</div>\n",
              "    <div class=\"colab-df-buttons\">\n",
              "\n",
              "  <div class=\"colab-df-container\">\n",
              "    <button class=\"colab-df-convert\" onclick=\"convertToInteractive('df-156b3792-0b25-438f-a773-4ff0ca3f896c')\"\n",
              "            title=\"Convert this dataframe to an interactive table.\"\n",
              "            style=\"display:none;\">\n",
              "\n",
              "  <svg xmlns=\"http://www.w3.org/2000/svg\" height=\"24px\" viewBox=\"0 -960 960 960\">\n",
              "    <path d=\"M120-120v-720h720v720H120Zm60-500h600v-160H180v160Zm220 220h160v-160H400v160Zm0 220h160v-160H400v160ZM180-400h160v-160H180v160Zm440 0h160v-160H620v160ZM180-180h160v-160H180v160Zm440 0h160v-160H620v160Z\"/>\n",
              "  </svg>\n",
              "    </button>\n",
              "\n",
              "  <style>\n",
              "    .colab-df-container {\n",
              "      display:flex;\n",
              "      gap: 12px;\n",
              "    }\n",
              "\n",
              "    .colab-df-convert {\n",
              "      background-color: #E8F0FE;\n",
              "      border: none;\n",
              "      border-radius: 50%;\n",
              "      cursor: pointer;\n",
              "      display: none;\n",
              "      fill: #1967D2;\n",
              "      height: 32px;\n",
              "      padding: 0 0 0 0;\n",
              "      width: 32px;\n",
              "    }\n",
              "\n",
              "    .colab-df-convert:hover {\n",
              "      background-color: #E2EBFA;\n",
              "      box-shadow: 0px 1px 2px rgba(60, 64, 67, 0.3), 0px 1px 3px 1px rgba(60, 64, 67, 0.15);\n",
              "      fill: #174EA6;\n",
              "    }\n",
              "\n",
              "    .colab-df-buttons div {\n",
              "      margin-bottom: 4px;\n",
              "    }\n",
              "\n",
              "    [theme=dark] .colab-df-convert {\n",
              "      background-color: #3B4455;\n",
              "      fill: #D2E3FC;\n",
              "    }\n",
              "\n",
              "    [theme=dark] .colab-df-convert:hover {\n",
              "      background-color: #434B5C;\n",
              "      box-shadow: 0px 1px 3px 1px rgba(0, 0, 0, 0.15);\n",
              "      filter: drop-shadow(0px 1px 2px rgba(0, 0, 0, 0.3));\n",
              "      fill: #FFFFFF;\n",
              "    }\n",
              "  </style>\n",
              "\n",
              "    <script>\n",
              "      const buttonEl =\n",
              "        document.querySelector('#df-156b3792-0b25-438f-a773-4ff0ca3f896c button.colab-df-convert');\n",
              "      buttonEl.style.display =\n",
              "        google.colab.kernel.accessAllowed ? 'block' : 'none';\n",
              "\n",
              "      async function convertToInteractive(key) {\n",
              "        const element = document.querySelector('#df-156b3792-0b25-438f-a773-4ff0ca3f896c');\n",
              "        const dataTable =\n",
              "          await google.colab.kernel.invokeFunction('convertToInteractive',\n",
              "                                                    [key], {});\n",
              "        if (!dataTable) return;\n",
              "\n",
              "        const docLinkHtml = 'Like what you see? Visit the ' +\n",
              "          '<a target=\"_blank\" href=https://colab.research.google.com/notebooks/data_table.ipynb>data table notebook</a>'\n",
              "          + ' to learn more about interactive tables.';\n",
              "        element.innerHTML = '';\n",
              "        dataTable['output_type'] = 'display_data';\n",
              "        await google.colab.output.renderOutput(dataTable, element);\n",
              "        const docLink = document.createElement('div');\n",
              "        docLink.innerHTML = docLinkHtml;\n",
              "        element.appendChild(docLink);\n",
              "      }\n",
              "    </script>\n",
              "  </div>\n",
              "\n",
              "\n",
              "    </div>\n",
              "  </div>\n"
            ],
            "application/vnd.google.colaboratory.intrinsic+json": {
              "type": "dataframe",
              "variable_name": "train",
              "summary": "{\n  \"name\": \"train\",\n  \"rows\": 21039,\n  \"fields\": [\n    {\n      \"column\": \"SMILES\",\n      \"properties\": {\n        \"dtype\": \"category\",\n        \"num_unique_values\": 68,\n        \"samples\": [\n          \"CS(=O)(=O)N1CCN(CC1)CC2=CC3=C(S2)C(=NC(=N3)C4=C5C=NNC5=CC=C4)N6CCOCC6\",\n          \"CC(C1=C(C=CC(=C1Cl)F)Cl)OC2=C(N=CC(=C2)C3=CN(N=C3)C4CCNCC4)N\",\n          \"CN(C)CC=CC(=O)NC1=C(C=C2C(=C1)C(=NC=N2)NC3=CC(=C(C=C3)F)Cl)OC4CCOC4\"\n        ],\n        \"semantic_type\": \"\",\n        \"description\": \"\"\n      }\n    },\n    {\n      \"column\": \"Target Sequence\",\n      \"properties\": {\n        \"dtype\": \"category\",\n        \"num_unique_values\": 379,\n        \"samples\": [\n          \"MGGRSSCEDPGCPRDEERAPRMGCMKSKFLQVGGNTFSKTETSASPHCPVYVPDPTSTIKPGPNSHNSNTPGIREAGSEDIIVVALYDYEAIHHEDLSFQKGDQMVVLEESGEWWKARSLATRKEGYIPSNYVARVDSLETEEWFFKGISRKDAERQLLAPGNMLGSFMIRDSETTKGSYSLSVRDYDPRQGDTVKHYKIRTLDNGGFYISPRSTFSTLQELVDHYKKGNDGLCQKLSVPCMSSKPQKPWEKDAWEIPRESLKLEKKLGAGQFGEVWMATYNKHTKVAVKTMKPGSMSVEAFLAEANVMKTLQHDKLVKLHAVVTKEPIYIITEFMAKGSLLDFLKSDEGSKQPLPKLIDFSAQIAEGMAFIEQRNYIHRDLRAANILVSASLVCKIADFGLARVIEDNEYTAREGAKFPIKWTAPEAINFGSFTIKSDVWSFGILLMEIVTYGRIPYPGMSNPEVIRALERGYRMPRPENCPEELYNIMMRCWKNRPEERPTFEYIQSVLDDFYTATESQYQQQP\",\n          \"MAEKFESLMNIHGFDLGSRYMDLKPLGCGGNGLVFSAVDNDCDKRVAIKKIVLTDPQSVKHALREIKIIRRLDHDNIVKVFEILGPSGSQLTDDVGSLTELNSVYIVQEYMETDLANVLEQGPLLEEHARLFMYQLLRGLKYIHSANVLHRDLKPANLFINTEDLVLKIGDFGLARIMDPHYSHKGHLSEGLVTKWYRSPRLLLSPNNYTKAIDMWAAGCIFAEMLTGKTLFAGAHELEQMQLILESIPVVHEEDRQELLSVIPVYIRNDMTEPHKPLTQLLPGISREALDFLEQILTFSPMDRLTAEEALSHPYMSIYSFPMDEPISSHPFHIEDEVDDILLMDETHSHIYNWERYHDCQFSEHDWPVHNNFDIDEVQLDPRALSDVTDEEEVQVDPRKYLDGDREKYLEDPAFDTNYSTEPCWQYSDHHENKYCDLECSHTCNYKTRSSSYLDNLVWRESEVNHYYEPKLIIDLSNWKEQSKEKSDKKGKSKCERNGLVKAQIALEEASQQLAGKEREKNQGFDFDSFIAGTIQLSSQHEPTDVVDKLNDLNSSVSQLELKSLISKSVSQEKQEKGMANLAQLEALYQSSWDSQFVSGGEDCFFINQFCEVRKDEQVEKENTYTSYLDKFFSRKEDTEMLETEPVEDGKLGERGHEEGFLNNSGEFLFNKQLESIGIPQFHSPVGSPLKSIQATLTPSAMKSSPQIPHQTYSSILKHLN\",\n          \"MVIMSEFSADPAGQGQGQQKPLRVGFYDIERTLGKGNFAVVKLARHRVTKTQVAIKIIDKTRLDSSNLEKIYREVQLMKLLNHPHIIKLYQVMETKDMLYIVTEFAKNGEMFDYLTSNGHLSENEARKKFWQILSAVEYCHDHHIVHRDLKTENLLLDGNMDIKLADFGFGNFYKSGEPLSTWCGSPPYAAPEVFEGKEYEGPQLDIWSLGVVLYVLVCGSLPFDGPNLPTLRQRVLEGRFRIPFFMSQDCESLIRRMLVVDPARRITIAQIRQHRWMRAEPCLPGPACPAFSAHSYTSNLGDYDEQALGIMQTLGVDRQRTVESLQNSSYNHFAAIYYLLLERLKEYRNAQCARPGPARQPRPRSSDLSGLEVPQEGLSTDPFRPALLCPQPQTLVQSVLQAEMDCELQSSLQWPLFFPVDASCSGVFRPRPVSPSSLLDTAISEEARQGPGLEEEQDTQESLPSSTGRRHTLAEVSTRLSPLTAPCIVVSPSTTASPAEGTSSDSCLTFSASKSPAGLSGTPATQGLLGACSPVRLASPFLGSQSATPVLQAQGGLGGAVLLPVSFQEGRRASDTSLTQGLKAFRQQLRKTTRTKGFLGLNKIKGLARQVCQAPASRASRGGLSPFHAPAQSPGLHGGAAGSREGWSLLEEVLEQQRLLQLQHHPAAAPGCSQAPQPAPAPFVIAPCDGPGAAPLPSTLLTSGLPLLPPPLLQTGASPVASAAQLLDTHLHIGTGPTALPAVPPPRLARLAPGCEPLGLLQGDCEMEDLMPCSLGTFVLVQ\"\n        ],\n        \"semantic_type\": \"\",\n        \"description\": \"\"\n      }\n    },\n    {\n      \"column\": \"Label\",\n      \"properties\": {\n        \"dtype\": \"number\",\n        \"std\": 0.8916376679033092,\n        \"min\": 5.0,\n        \"max\": 10.721246399047171,\n        \"num_unique_values\": 446,\n        \"samples\": [\n          8.327902142064282,\n          7.236572006437063,\n          8.337242168318426\n        ],\n        \"semantic_type\": \"\",\n        \"description\": \"\"\n      }\n    },\n    {\n      \"column\": \"drug_encoding\",\n      \"properties\": {\n        \"dtype\": \"object\",\n        \"semantic_type\": \"\",\n        \"description\": \"\"\n      }\n    },\n    {\n      \"column\": \"target_encoding\",\n      \"properties\": {\n        \"dtype\": \"object\",\n        \"semantic_type\": \"\",\n        \"description\": \"\"\n      }\n    }\n  ]\n}"
            }
          },
          "metadata": {},
          "execution_count": 8
        }
      ]
    },
    {
      "cell_type": "code",
      "source": [
        "config = utils.generate_config(drug_encoding = drug_encoding,\n",
        "                         target_encoding = target_encoding,\n",
        "                         cls_hidden_dims = [1024,1024,512],\n",
        "                         train_epoch = 100,\n",
        "                         LR = 0.001,\n",
        "                         batch_size = 128,\n",
        "                         hidden_dim_drug = 128,\n",
        "                         mpnn_hidden_size = 128,\n",
        "                         mpnn_depth = 3,\n",
        "                         cnn_target_filters = [32,64,96],\n",
        "                         cnn_target_kernels = [4,8,12]\n",
        "                        )"
      ],
      "metadata": {
        "id": "UyRvQ5hz8377"
      },
      "execution_count": null,
      "outputs": []
    },
    {
      "cell_type": "code",
      "source": [
        "model = models.model_initialize(**config)\n",
        "model"
      ],
      "metadata": {
        "colab": {
          "base_uri": "https://localhost:8080/"
        },
        "id": "7MQ9TJpK88G8",
        "outputId": "cf0401a1-9c95-41d9-e92d-a65d2f87f8ba"
      },
      "execution_count": null,
      "outputs": [
        {
          "output_type": "execute_result",
          "data": {
            "text/plain": [
              "<DeepPurpose.DTI.DBTA at 0x7d3ec040d9f0>"
            ]
          },
          "metadata": {},
          "execution_count": 10
        }
      ]
    },
    {
      "cell_type": "code",
      "source": [
        "model.train(train, val, test)"
      ],
      "metadata": {
        "colab": {
          "base_uri": "https://localhost:8080/",
          "height": 1000
        },
        "id": "Kk6yGEop8-9Z",
        "outputId": "eef3e6ae-a0af-4252-8b6e-30ee8de932bc"
      },
      "execution_count": null,
      "outputs": [
        {
          "output_type": "stream",
          "name": "stdout",
          "text": [
            "Let's use 1 GPU!\n",
            "--- Data Preparation ---\n",
            "--- Go for Training ---\n",
            "Training at Epoch 1 iteration 0 with loss 31.2987. Total time 0.00055 hours\n",
            "Training at Epoch 1 iteration 100 with loss 0.81675. Total time 0.00916 hours\n",
            "Validation at Epoch 1 with loss:1.00206, MSE: 0.77444 , Pearson Correlation: 0.26288 with p-value: 1.06E-48 , Concordance Index: 0.63595\n",
            "Training at Epoch 2 iteration 0 with loss 0.97026. Total time 0.01666 hours\n",
            "Training at Epoch 2 iteration 100 with loss 0.49833. Total time 0.025 hours\n",
            "Validation at Epoch 2 with loss:0.44490, MSE: 0.71699 , Pearson Correlation: 0.35608 with p-value: 1.46E-90 , Concordance Index: 0.68114\n",
            "Training at Epoch 3 iteration 0 with loss 0.76264. Total time 0.0325 hours\n",
            "Training at Epoch 3 iteration 100 with loss 0.66139. Total time 0.04055 hours\n",
            "Validation at Epoch 3 with loss:0.77436, MSE: 0.76876 , Pearson Correlation: 0.37229 with p-value: 1.86E-99 , Concordance Index: 0.69908\n",
            "Training at Epoch 4 iteration 0 with loss 0.56106. Total time 0.04777 hours\n",
            "Training at Epoch 4 iteration 100 with loss 0.74219. Total time 0.05638 hours\n",
            "Validation at Epoch 4 with loss:0.84454, MSE: 0.68922 , Pearson Correlation: 0.40601 with p-value: 1.11E-119 , Concordance Index: 0.71987\n",
            "Training at Epoch 5 iteration 0 with loss 1.11020. Total time 0.06361 hours\n",
            "Training at Epoch 5 iteration 100 with loss 0.88011. Total time 0.07194 hours\n",
            "Validation at Epoch 5 with loss:0.83861, MSE: 0.73483 , Pearson Correlation: 0.41609 with p-value: 3.39E-126 , Concordance Index: 0.72935\n",
            "Training at Epoch 6 iteration 0 with loss 0.71398. Total time 0.07916 hours\n",
            "Training at Epoch 6 iteration 100 with loss 0.71116. Total time 0.0875 hours\n",
            "Validation at Epoch 6 with loss:0.40472, MSE: 0.76320 , Pearson Correlation: 0.42036 with p-value: 5.04E-129 , Concordance Index: 0.72786\n",
            "Training at Epoch 7 iteration 0 with loss 1.28369. Total time 0.095 hours\n",
            "Training at Epoch 7 iteration 100 with loss 0.81250. Total time 0.10361 hours\n",
            "Validation at Epoch 7 with loss:0.83042, MSE: 0.97248 , Pearson Correlation: 0.42703 with p-value: 1.60E-133 , Concordance Index: 0.72811\n",
            "Training at Epoch 8 iteration 0 with loss 1.14798. Total time 0.11138 hours\n",
            "Training at Epoch 8 iteration 100 with loss 0.46537. Total time 0.11972 hours\n",
            "Validation at Epoch 8 with loss:0.95250, MSE: 0.66865 , Pearson Correlation: 0.44147 with p-value: 1.26E-143 , Concordance Index: 0.73832\n",
            "Training at Epoch 9 iteration 0 with loss 0.60144. Total time 0.12722 hours\n",
            "Training at Epoch 9 iteration 100 with loss 0.61945. Total time 0.13527 hours\n",
            "Validation at Epoch 9 with loss:1.28987, MSE: 0.89297 , Pearson Correlation: 0.43618 with p-value: 7.20E-140 , Concordance Index: 0.73626\n",
            "Training at Epoch 10 iteration 0 with loss 0.89424. Total time 0.14277 hours\n",
            "Training at Epoch 10 iteration 100 with loss 1.18946. Total time 0.15083 hours\n",
            "Validation at Epoch 10 with loss:0.63339, MSE: 0.65569 , Pearson Correlation: 0.44494 with p-value: 4.00E-146 , Concordance Index: 0.73879\n",
            "Training at Epoch 11 iteration 0 with loss 0.53495. Total time 0.15805 hours\n",
            "Training at Epoch 11 iteration 100 with loss 0.73104. Total time 0.16611 hours\n",
            "Validation at Epoch 11 with loss:0.78476, MSE: 0.89887 , Pearson Correlation: 0.44881 with p-value: 6.05E-149 , Concordance Index: 0.73431\n",
            "Training at Epoch 12 iteration 0 with loss 0.85310. Total time 0.17361 hours\n",
            "Training at Epoch 12 iteration 100 with loss 0.75414. Total time 0.18166 hours\n",
            "Validation at Epoch 12 with loss:0.57785, MSE: 0.65704 , Pearson Correlation: 0.44967 with p-value: 1.41E-149 , Concordance Index: 0.73968\n",
            "Training at Epoch 13 iteration 0 with loss 0.55171. Total time 0.18888 hours\n",
            "Training at Epoch 13 iteration 100 with loss 0.69773. Total time 0.1975 hours\n",
            "Validation at Epoch 13 with loss:0.63169, MSE: 0.68597 , Pearson Correlation: 0.45329 with p-value: 2.95E-152 , Concordance Index: 0.74027\n",
            "Training at Epoch 14 iteration 0 with loss 0.78304. Total time 0.205 hours\n",
            "Training at Epoch 14 iteration 100 with loss 0.73990. Total time 0.21305 hours\n",
            "Validation at Epoch 14 with loss:0.57662, MSE: 0.68113 , Pearson Correlation: 0.46016 with p-value: 1.93E-157 , Concordance Index: 0.74270\n",
            "Training at Epoch 15 iteration 0 with loss 0.54345. Total time 0.22055 hours\n",
            "Training at Epoch 15 iteration 100 with loss 0.64970. Total time 0.22861 hours\n",
            "Validation at Epoch 15 with loss:0.59503, MSE: 0.65740 , Pearson Correlation: 0.46625 with p-value: 3.92E-162 , Concordance Index: 0.74750\n",
            "Training at Epoch 16 iteration 0 with loss 0.54758. Total time 0.23611 hours\n",
            "Training at Epoch 16 iteration 100 with loss 0.64950. Total time 0.24416 hours\n",
            "Validation at Epoch 16 with loss:1.02041, MSE: 0.71445 , Pearson Correlation: 0.47626 with p-value: 4.70E-170 , Concordance Index: 0.74797\n",
            "Training at Epoch 17 iteration 0 with loss 0.62679. Total time 0.25166 hours\n",
            "Training at Epoch 17 iteration 100 with loss 0.68921. Total time 0.25972 hours\n",
            "Validation at Epoch 17 with loss:0.58189, MSE: 0.63318 , Pearson Correlation: 0.48495 with p-value: 3.79E-177 , Concordance Index: 0.75285\n",
            "Training at Epoch 18 iteration 0 with loss 0.75953. Total time 0.26694 hours\n",
            "Training at Epoch 18 iteration 100 with loss 0.96709. Total time 0.27527 hours\n",
            "Validation at Epoch 18 with loss:1.14627, MSE: 0.66911 , Pearson Correlation: 0.47738 with p-value: 5.97E-171 , Concordance Index: 0.74551\n",
            "Training at Epoch 19 iteration 0 with loss 0.61502. Total time 0.28277 hours\n",
            "Training at Epoch 19 iteration 100 with loss 0.59952. Total time 0.29111 hours\n",
            "Validation at Epoch 19 with loss:0.42864, MSE: 0.69268 , Pearson Correlation: 0.51176 with p-value: 2.31E-200 , Concordance Index: 0.75354\n",
            "Training at Epoch 20 iteration 0 with loss 0.77479. Total time 0.29888 hours\n",
            "Training at Epoch 20 iteration 100 with loss 0.67143. Total time 0.30694 hours\n",
            "Validation at Epoch 20 with loss:0.62549, MSE: 0.64829 , Pearson Correlation: 0.52871 with p-value: 3.68E-216 , Concordance Index: 0.75746\n",
            "Training at Epoch 21 iteration 0 with loss 0.57972. Total time 0.31416 hours\n",
            "Training at Epoch 21 iteration 100 with loss 0.50754. Total time 0.3225 hours\n",
            "Validation at Epoch 21 with loss:0.45423, MSE: 0.58204 , Pearson Correlation: 0.54066 with p-value: 7.75E-228 , Concordance Index: 0.76561\n",
            "Training at Epoch 22 iteration 0 with loss 0.54595. Total time 0.32972 hours\n",
            "Training at Epoch 22 iteration 100 with loss 0.63845. Total time 0.33777 hours\n",
            "Validation at Epoch 22 with loss:0.50859, MSE: 0.60661 , Pearson Correlation: 0.54438 with p-value: 1.43E-231 , Concordance Index: 0.76232\n",
            "Training at Epoch 23 iteration 0 with loss 0.66798. Total time 0.34527 hours\n",
            "Training at Epoch 23 iteration 100 with loss 0.68767. Total time 0.35361 hours\n",
            "Validation at Epoch 23 with loss:0.75737, MSE: 0.58636 , Pearson Correlation: 0.55502 with p-value: 1.63E-242 , Concordance Index: 0.76147\n",
            "Training at Epoch 24 iteration 0 with loss 0.56548. Total time 0.36083 hours\n",
            "Training at Epoch 24 iteration 100 with loss 0.48635. Total time 0.36916 hours\n",
            "Validation at Epoch 24 with loss:0.50061, MSE: 0.60339 , Pearson Correlation: 0.57391 with p-value: 5.88E-263 , Concordance Index: 0.76994\n",
            "Training at Epoch 25 iteration 0 with loss 0.66690. Total time 0.37666 hours\n",
            "Training at Epoch 25 iteration 100 with loss 0.56883. Total time 0.385 hours\n",
            "Validation at Epoch 25 with loss:0.64859, MSE: 0.61381 , Pearson Correlation: 0.56748 with p-value: 7.49E-256 , Concordance Index: 0.77362\n",
            "Training at Epoch 26 iteration 0 with loss 0.69063. Total time 0.3925 hours\n",
            "Training at Epoch 26 iteration 100 with loss 0.49533. Total time 0.40083 hours\n",
            "Validation at Epoch 26 with loss:0.72728, MSE: 0.54655 , Pearson Correlation: 0.57722 with p-value: 1.14E-266 , Concordance Index: 0.77538\n",
            "Training at Epoch 27 iteration 0 with loss 0.56213. Total time 0.40805 hours\n",
            "Training at Epoch 27 iteration 100 with loss 0.47003. Total time 0.41638 hours\n",
            "Validation at Epoch 27 with loss:0.40163, MSE: 0.54161 , Pearson Correlation: 0.57922 with p-value: 6.05E-269 , Concordance Index: 0.78082\n",
            "Training at Epoch 28 iteration 0 with loss 0.66554. Total time 0.42388 hours\n",
            "Training at Epoch 28 iteration 100 with loss 0.66066. Total time 0.43194 hours\n",
            "Validation at Epoch 28 with loss:0.78152, MSE: 0.56469 , Pearson Correlation: 0.59627 with p-value: 6.24E-289 , Concordance Index: 0.76864\n",
            "Training at Epoch 29 iteration 0 with loss 0.43230. Total time 0.43944 hours\n",
            "Training at Epoch 29 iteration 100 with loss 0.52652. Total time 0.44777 hours\n",
            "Validation at Epoch 29 with loss:0.50794, MSE: 0.51340 , Pearson Correlation: 0.61603 with p-value: 1.19E-313 , Concordance Index: 0.78823\n",
            "Training at Epoch 30 iteration 0 with loss 0.30299. Total time 0.45527 hours\n",
            "Training at Epoch 30 iteration 100 with loss 0.65071. Total time 0.46361 hours\n",
            "Validation at Epoch 30 with loss:0.34276, MSE: 0.50533 , Pearson Correlation: 0.62347 with p-value: 1.98E-323 , Concordance Index: 0.79575\n",
            "Training at Epoch 31 iteration 0 with loss 0.73139. Total time 0.47111 hours\n",
            "Training at Epoch 31 iteration 100 with loss 0.46136. Total time 0.47944 hours\n",
            "Validation at Epoch 31 with loss:0.42435, MSE: 0.48540 , Pearson Correlation: 0.63938 with p-value: 0.00E+00 , Concordance Index: 0.80452\n",
            "Training at Epoch 32 iteration 0 with loss 0.46749. Total time 0.4875 hours\n",
            "Training at Epoch 32 iteration 100 with loss 0.32374. Total time 0.49583 hours\n",
            "Validation at Epoch 32 with loss:0.37288, MSE: 0.45895 , Pearson Correlation: 0.67387 with p-value: 0.00E+00 , Concordance Index: 0.81560\n",
            "Training at Epoch 33 iteration 0 with loss 0.42982. Total time 0.50333 hours\n",
            "Training at Epoch 33 iteration 100 with loss 0.34780. Total time 0.51166 hours\n",
            "Validation at Epoch 33 with loss:0.22329, MSE: 0.45106 , Pearson Correlation: 0.67070 with p-value: 0.00E+00 , Concordance Index: 0.81842\n",
            "Training at Epoch 34 iteration 0 with loss 0.40176. Total time 0.51944 hours\n",
            "Training at Epoch 34 iteration 100 with loss 0.38790. Total time 0.52805 hours\n",
            "Validation at Epoch 34 with loss:0.38175, MSE: 0.44872 , Pearson Correlation: 0.67706 with p-value: 0.00E+00 , Concordance Index: 0.80726\n",
            "Training at Epoch 35 iteration 0 with loss 0.63870. Total time 0.53555 hours\n",
            "Training at Epoch 35 iteration 100 with loss 0.51614. Total time 0.54388 hours\n",
            "Validation at Epoch 35 with loss:0.51450, MSE: 0.43405 , Pearson Correlation: 0.70520 with p-value: 0.00E+00 , Concordance Index: 0.83428\n",
            "Training at Epoch 36 iteration 0 with loss 0.58089. Total time 0.55166 hours\n",
            "Training at Epoch 36 iteration 100 with loss 0.37374. Total time 0.56 hours\n",
            "Validation at Epoch 36 with loss:0.80347, MSE: 0.42227 , Pearson Correlation: 0.72203 with p-value: 0.00E+00 , Concordance Index: 0.84029\n",
            "Training at Epoch 37 iteration 0 with loss 0.52881. Total time 0.56777 hours\n",
            "Training at Epoch 37 iteration 100 with loss 0.36471. Total time 0.57611 hours\n",
            "Validation at Epoch 37 with loss:0.35795, MSE: 0.41741 , Pearson Correlation: 0.70997 with p-value: 0.00E+00 , Concordance Index: 0.83142\n",
            "Training at Epoch 38 iteration 0 with loss 0.45927. Total time 0.58388 hours\n",
            "Training at Epoch 38 iteration 100 with loss 0.42234. Total time 0.59277 hours\n",
            "Validation at Epoch 38 with loss:0.43760, MSE: 0.37374 , Pearson Correlation: 0.74174 with p-value: 0.00E+00 , Concordance Index: 0.83994\n",
            "Training at Epoch 39 iteration 0 with loss 0.66615. Total time 0.60055 hours\n",
            "Training at Epoch 39 iteration 100 with loss 0.35474. Total time 0.60888 hours\n",
            "Validation at Epoch 39 with loss:0.45856, MSE: 0.38463 , Pearson Correlation: 0.73248 with p-value: 0.00E+00 , Concordance Index: 0.83703\n",
            "Training at Epoch 40 iteration 0 with loss 0.51853. Total time 0.61666 hours\n",
            "Training at Epoch 40 iteration 100 with loss 0.29482. Total time 0.625 hours\n",
            "Validation at Epoch 40 with loss:0.31614, MSE: 0.35369 , Pearson Correlation: 0.75360 with p-value: 0.00E+00 , Concordance Index: 0.84992\n",
            "Training at Epoch 41 iteration 0 with loss 0.34765. Total time 0.6325 hours\n",
            "Training at Epoch 41 iteration 100 with loss 0.30201. Total time 0.64111 hours\n",
            "Validation at Epoch 41 with loss:0.28536, MSE: 0.34848 , Pearson Correlation: 0.76063 with p-value: 0.00E+00 , Concordance Index: 0.85694\n",
            "Training at Epoch 42 iteration 0 with loss 0.26143. Total time 0.64861 hours\n",
            "Training at Epoch 42 iteration 100 with loss 0.26139. Total time 0.65694 hours\n",
            "Validation at Epoch 42 with loss:0.36048, MSE: 0.40251 , Pearson Correlation: 0.76798 with p-value: 0.00E+00 , Concordance Index: 0.85871\n",
            "Training at Epoch 43 iteration 0 with loss 0.38212. Total time 0.66444 hours\n",
            "Training at Epoch 43 iteration 100 with loss 0.33020. Total time 0.67277 hours\n",
            "Validation at Epoch 43 with loss:0.37031, MSE: 0.35717 , Pearson Correlation: 0.75542 with p-value: 0.00E+00 , Concordance Index: 0.84875\n",
            "Training at Epoch 44 iteration 0 with loss 0.25051. Total time 0.68 hours\n",
            "Training at Epoch 44 iteration 100 with loss 0.35686. Total time 0.68888 hours\n",
            "Validation at Epoch 44 with loss:0.18027, MSE: 0.33040 , Pearson Correlation: 0.77144 with p-value: 0.00E+00 , Concordance Index: 0.85873\n",
            "Training at Epoch 45 iteration 0 with loss 0.16866. Total time 0.69638 hours\n",
            "Training at Epoch 45 iteration 100 with loss 0.29837. Total time 0.70472 hours\n",
            "Validation at Epoch 45 with loss:0.24790, MSE: 0.32360 , Pearson Correlation: 0.77712 with p-value: 0.00E+00 , Concordance Index: 0.85725\n",
            "Training at Epoch 46 iteration 0 with loss 0.19654. Total time 0.71222 hours\n",
            "Training at Epoch 46 iteration 100 with loss 0.26495. Total time 0.72055 hours\n",
            "Validation at Epoch 46 with loss:0.24925, MSE: 0.35633 , Pearson Correlation: 0.76901 with p-value: 0.00E+00 , Concordance Index: 0.86092\n",
            "Training at Epoch 47 iteration 0 with loss 0.20359. Total time 0.72805 hours\n",
            "Training at Epoch 47 iteration 100 with loss 0.30904. Total time 0.73638 hours\n",
            "Validation at Epoch 47 with loss:0.35351, MSE: 0.33798 , Pearson Correlation: 0.76749 with p-value: 0.00E+00 , Concordance Index: 0.85954\n",
            "Training at Epoch 48 iteration 0 with loss 0.21990. Total time 0.74388 hours\n",
            "Training at Epoch 48 iteration 100 with loss 0.24484. Total time 0.75222 hours\n",
            "Validation at Epoch 48 with loss:0.29543, MSE: 0.36051 , Pearson Correlation: 0.75865 with p-value: 0.00E+00 , Concordance Index: 0.85704\n",
            "Training at Epoch 49 iteration 0 with loss 0.27370. Total time 0.76 hours\n",
            "Training at Epoch 49 iteration 100 with loss 0.21675. Total time 0.76833 hours\n",
            "Validation at Epoch 49 with loss:0.25511, MSE: 0.31365 , Pearson Correlation: 0.79067 with p-value: 0.00E+00 , Concordance Index: 0.87167\n",
            "Training at Epoch 50 iteration 0 with loss 0.28316. Total time 0.77611 hours\n",
            "Training at Epoch 50 iteration 100 with loss 0.30514. Total time 0.78444 hours\n",
            "Validation at Epoch 50 with loss:0.81070, MSE: 0.34045 , Pearson Correlation: 0.77903 with p-value: 0.00E+00 , Concordance Index: 0.85365\n",
            "Training at Epoch 51 iteration 0 with loss 0.25347. Total time 0.79222 hours\n",
            "Training at Epoch 51 iteration 100 with loss 0.26535. Total time 0.80055 hours\n",
            "Validation at Epoch 51 with loss:0.32275, MSE: 0.30857 , Pearson Correlation: 0.79283 with p-value: 0.00E+00 , Concordance Index: 0.85818\n",
            "Training at Epoch 52 iteration 0 with loss 0.29219. Total time 0.80805 hours\n",
            "Training at Epoch 52 iteration 100 with loss 0.24047. Total time 0.81611 hours\n",
            "Validation at Epoch 52 with loss:0.28906, MSE: 0.31669 , Pearson Correlation: 0.78640 with p-value: 0.00E+00 , Concordance Index: 0.85905\n",
            "Training at Epoch 53 iteration 0 with loss 0.38833. Total time 0.82333 hours\n",
            "Training at Epoch 53 iteration 100 with loss 0.21647. Total time 0.83166 hours\n",
            "Validation at Epoch 53 with loss:0.21840, MSE: 0.29597 , Pearson Correlation: 0.79951 with p-value: 0.00E+00 , Concordance Index: 0.86772\n",
            "Training at Epoch 54 iteration 0 with loss 0.19923. Total time 0.83916 hours\n",
            "Training at Epoch 54 iteration 100 with loss 0.18062. Total time 0.8475 hours\n",
            "Validation at Epoch 54 with loss:0.17837, MSE: 0.30592 , Pearson Correlation: 0.79607 with p-value: 0.00E+00 , Concordance Index: 0.86747\n",
            "Training at Epoch 55 iteration 0 with loss 0.16678. Total time 0.85472 hours\n",
            "Training at Epoch 55 iteration 100 with loss 0.21829. Total time 0.86277 hours\n",
            "Validation at Epoch 55 with loss:0.28687, MSE: 0.30763 , Pearson Correlation: 0.79326 with p-value: 0.00E+00 , Concordance Index: 0.86577\n",
            "Training at Epoch 56 iteration 0 with loss 0.29559. Total time 0.87027 hours\n",
            "Training at Epoch 56 iteration 100 with loss 0.35282. Total time 0.87833 hours\n",
            "Validation at Epoch 56 with loss:0.37435, MSE: 0.31611 , Pearson Correlation: 0.79349 with p-value: 0.00E+00 , Concordance Index: 0.86382\n",
            "Training at Epoch 57 iteration 0 with loss 0.25831. Total time 0.88611 hours\n",
            "Training at Epoch 57 iteration 100 with loss 0.30919. Total time 0.89444 hours\n",
            "Validation at Epoch 57 with loss:0.41806, MSE: 0.29193 , Pearson Correlation: 0.80368 with p-value: 0.00E+00 , Concordance Index: 0.86590\n",
            "Training at Epoch 58 iteration 0 with loss 0.25802. Total time 0.90166 hours\n",
            "Training at Epoch 58 iteration 100 with loss 0.18095. Total time 0.91 hours\n",
            "Validation at Epoch 58 with loss:0.21122, MSE: 0.30184 , Pearson Correlation: 0.80653 with p-value: 0.00E+00 , Concordance Index: 0.87172\n",
            "Training at Epoch 59 iteration 0 with loss 0.28246. Total time 0.9175 hours\n",
            "Training at Epoch 59 iteration 100 with loss 0.27214. Total time 0.92555 hours\n",
            "Validation at Epoch 59 with loss:0.41514, MSE: 0.37061 , Pearson Correlation: 0.80505 with p-value: 0.00E+00 , Concordance Index: 0.86420\n",
            "Training at Epoch 60 iteration 0 with loss 0.25373. Total time 0.93305 hours\n",
            "Training at Epoch 60 iteration 100 with loss 0.24845. Total time 0.94111 hours\n",
            "Validation at Epoch 60 with loss:0.52263, MSE: 0.28709 , Pearson Correlation: 0.80809 with p-value: 0.00E+00 , Concordance Index: 0.87280\n",
            "Training at Epoch 61 iteration 0 with loss 0.26874. Total time 0.94861 hours\n",
            "Training at Epoch 61 iteration 100 with loss 0.16739. Total time 0.95666 hours\n",
            "Validation at Epoch 61 with loss:0.19310, MSE: 0.29899 , Pearson Correlation: 0.79649 with p-value: 0.00E+00 , Concordance Index: 0.86462\n",
            "Training at Epoch 62 iteration 0 with loss 0.18517. Total time 0.96388 hours\n",
            "Training at Epoch 62 iteration 100 with loss 0.20937. Total time 0.97222 hours\n",
            "Validation at Epoch 62 with loss:0.18188, MSE: 0.28841 , Pearson Correlation: 0.80383 with p-value: 0.00E+00 , Concordance Index: 0.86987\n",
            "Training at Epoch 63 iteration 0 with loss 0.18590. Total time 0.98 hours\n",
            "Training at Epoch 63 iteration 100 with loss 0.26231. Total time 0.98833 hours\n",
            "Validation at Epoch 63 with loss:0.43323, MSE: 0.27785 , Pearson Correlation: 0.81202 with p-value: 0.00E+00 , Concordance Index: 0.87630\n",
            "Training at Epoch 64 iteration 0 with loss 0.16244. Total time 0.99583 hours\n",
            "Training at Epoch 64 iteration 100 with loss 0.25886. Total time 1.00416 hours\n",
            "Validation at Epoch 64 with loss:0.13506, MSE: 0.28921 , Pearson Correlation: 0.81695 with p-value: 0.00E+00 , Concordance Index: 0.87380\n",
            "Training at Epoch 65 iteration 0 with loss 0.23378. Total time 1.01138 hours\n",
            "Training at Epoch 65 iteration 100 with loss 0.17937. Total time 1.01972 hours\n",
            "Validation at Epoch 65 with loss:0.13341, MSE: 0.27852 , Pearson Correlation: 0.81109 with p-value: 0.00E+00 , Concordance Index: 0.86840\n",
            "Training at Epoch 66 iteration 0 with loss 0.12317. Total time 1.02722 hours\n",
            "Training at Epoch 66 iteration 100 with loss 0.29041. Total time 1.03527 hours\n",
            "Validation at Epoch 66 with loss:0.16335, MSE: 0.30360 , Pearson Correlation: 0.80498 with p-value: 0.00E+00 , Concordance Index: 0.87234\n",
            "Training at Epoch 67 iteration 0 with loss 0.29627. Total time 1.04277 hours\n",
            "Training at Epoch 67 iteration 100 with loss 0.22170. Total time 1.05138 hours\n",
            "Validation at Epoch 67 with loss:0.29945, MSE: 0.27354 , Pearson Correlation: 0.81745 with p-value: 0.00E+00 , Concordance Index: 0.86891\n",
            "Training at Epoch 68 iteration 0 with loss 0.20020. Total time 1.05861 hours\n",
            "Training at Epoch 68 iteration 100 with loss 0.23618. Total time 1.06694 hours\n",
            "Validation at Epoch 68 with loss:0.27589, MSE: 0.27050 , Pearson Correlation: 0.81777 with p-value: 0.00E+00 , Concordance Index: 0.87438\n",
            "Training at Epoch 69 iteration 0 with loss 0.16524. Total time 1.07416 hours\n",
            "Training at Epoch 69 iteration 100 with loss 0.20761. Total time 1.08305 hours\n",
            "Validation at Epoch 69 with loss:0.66982, MSE: 0.31724 , Pearson Correlation: 0.79726 with p-value: 0.00E+00 , Concordance Index: 0.86021\n",
            "Training at Epoch 70 iteration 0 with loss 0.15014. Total time 1.09 hours\n",
            "Training at Epoch 70 iteration 100 with loss 0.16323. Total time 1.09805 hours\n",
            "Validation at Epoch 70 with loss:0.19745, MSE: 0.26900 , Pearson Correlation: 0.81975 with p-value: 0.00E+00 , Concordance Index: 0.87383\n",
            "Training at Epoch 71 iteration 0 with loss 0.21116. Total time 1.10527 hours\n",
            "Training at Epoch 71 iteration 100 with loss 0.20344. Total time 1.11333 hours\n",
            "Validation at Epoch 71 with loss:0.26088, MSE: 0.26971 , Pearson Correlation: 0.81855 with p-value: 0.00E+00 , Concordance Index: 0.87879\n",
            "Training at Epoch 72 iteration 0 with loss 0.16881. Total time 1.12055 hours\n",
            "Training at Epoch 72 iteration 100 with loss 0.30817. Total time 1.12888 hours\n",
            "Validation at Epoch 72 with loss:0.17924, MSE: 0.27179 , Pearson Correlation: 0.81707 with p-value: 0.00E+00 , Concordance Index: 0.87860\n",
            "Training at Epoch 73 iteration 0 with loss 0.17125. Total time 1.13638 hours\n",
            "Training at Epoch 73 iteration 100 with loss 0.22059. Total time 1.14472 hours\n",
            "Validation at Epoch 73 with loss:0.25224, MSE: 0.27862 , Pearson Correlation: 0.81935 with p-value: 0.00E+00 , Concordance Index: 0.87793\n",
            "Training at Epoch 74 iteration 0 with loss 0.16482. Total time 1.15194 hours\n",
            "Training at Epoch 74 iteration 100 with loss 0.20115. Total time 1.16027 hours\n",
            "Validation at Epoch 74 with loss:0.18364, MSE: 0.26186 , Pearson Correlation: 0.82461 with p-value: 0.00E+00 , Concordance Index: 0.87836\n",
            "Training at Epoch 75 iteration 0 with loss 0.17348. Total time 1.1675 hours\n",
            "Training at Epoch 75 iteration 100 with loss 0.12182. Total time 1.17611 hours\n",
            "Validation at Epoch 75 with loss:0.19939, MSE: 0.29171 , Pearson Correlation: 0.81320 with p-value: 0.00E+00 , Concordance Index: 0.86034\n",
            "Training at Epoch 76 iteration 0 with loss 0.12889. Total time 1.18333 hours\n",
            "Training at Epoch 76 iteration 100 with loss 0.15156. Total time 1.19166 hours\n",
            "Validation at Epoch 76 with loss:0.13601, MSE: 0.27280 , Pearson Correlation: 0.81756 with p-value: 0.00E+00 , Concordance Index: 0.88069\n",
            "Training at Epoch 77 iteration 0 with loss 0.16595. Total time 1.19888 hours\n",
            "Training at Epoch 77 iteration 100 with loss 0.14383. Total time 1.20722 hours\n",
            "Validation at Epoch 77 with loss:0.14363, MSE: 0.26602 , Pearson Correlation: 0.82304 with p-value: 0.00E+00 , Concordance Index: 0.88299\n",
            "Training at Epoch 78 iteration 0 with loss 0.19909. Total time 1.21444 hours\n",
            "Training at Epoch 78 iteration 100 with loss 0.22469. Total time 1.22277 hours\n",
            "Validation at Epoch 78 with loss:0.34319, MSE: 0.26196 , Pearson Correlation: 0.82608 with p-value: 0.00E+00 , Concordance Index: 0.87558\n",
            "Training at Epoch 79 iteration 0 with loss 0.16704. Total time 1.23027 hours\n",
            "Training at Epoch 79 iteration 100 with loss 0.12124. Total time 1.23861 hours\n",
            "Validation at Epoch 79 with loss:0.30630, MSE: 0.26938 , Pearson Correlation: 0.82100 with p-value: 0.00E+00 , Concordance Index: 0.87153\n",
            "Training at Epoch 80 iteration 0 with loss 0.10780. Total time 1.24583 hours\n",
            "Training at Epoch 80 iteration 100 with loss 0.18210. Total time 1.25444 hours\n",
            "Validation at Epoch 80 with loss:0.36965, MSE: 0.30547 , Pearson Correlation: 0.82356 with p-value: 0.00E+00 , Concordance Index: 0.87444\n",
            "Training at Epoch 81 iteration 0 with loss 0.19469. Total time 1.26194 hours\n",
            "Training at Epoch 81 iteration 100 with loss 0.20505. Total time 1.27027 hours\n",
            "Validation at Epoch 81 with loss:0.13265, MSE: 0.26879 , Pearson Correlation: 0.82102 with p-value: 0.00E+00 , Concordance Index: 0.87427\n",
            "Training at Epoch 82 iteration 0 with loss 0.25177. Total time 1.27833 hours\n",
            "Training at Epoch 82 iteration 100 with loss 0.22569. Total time 1.28666 hours\n",
            "Validation at Epoch 82 with loss:0.24403, MSE: 0.27151 , Pearson Correlation: 0.81949 with p-value: 0.00E+00 , Concordance Index: 0.87671\n",
            "Training at Epoch 83 iteration 0 with loss 0.12664. Total time 1.29416 hours\n",
            "Training at Epoch 83 iteration 100 with loss 0.15992. Total time 1.3025 hours\n",
            "Validation at Epoch 83 with loss:0.17890, MSE: 0.26707 , Pearson Correlation: 0.82276 with p-value: 0.00E+00 , Concordance Index: 0.88089\n",
            "Training at Epoch 84 iteration 0 with loss 0.20268. Total time 1.30972 hours\n",
            "Training at Epoch 84 iteration 100 with loss 0.15636. Total time 1.31805 hours\n",
            "Validation at Epoch 84 with loss:0.26295, MSE: 0.26311 , Pearson Correlation: 0.82896 with p-value: 0.00E+00 , Concordance Index: 0.87964\n",
            "Training at Epoch 85 iteration 0 with loss 0.18040. Total time 1.32527 hours\n",
            "Training at Epoch 85 iteration 100 with loss 0.30546. Total time 1.33361 hours\n",
            "Validation at Epoch 85 with loss:0.31180, MSE: 0.28584 , Pearson Correlation: 0.82084 with p-value: 0.00E+00 , Concordance Index: 0.87076\n",
            "Training at Epoch 86 iteration 0 with loss 0.17636. Total time 1.34138 hours\n",
            "Training at Epoch 86 iteration 100 with loss 0.11054. Total time 1.34944 hours\n",
            "Validation at Epoch 86 with loss:0.46276, MSE: 0.29263 , Pearson Correlation: 0.81130 with p-value: 0.00E+00 , Concordance Index: 0.86491\n",
            "Training at Epoch 87 iteration 0 with loss 0.27837. Total time 1.35694 hours\n",
            "Training at Epoch 87 iteration 100 with loss 0.13602. Total time 1.36527 hours\n",
            "Validation at Epoch 87 with loss:0.22135, MSE: 0.25505 , Pearson Correlation: 0.82963 with p-value: 0.00E+00 , Concordance Index: 0.87804\n",
            "Training at Epoch 88 iteration 0 with loss 0.16006. Total time 1.37277 hours\n",
            "Training at Epoch 88 iteration 100 with loss 0.18522. Total time 1.38166 hours\n",
            "Validation at Epoch 88 with loss:0.52598, MSE: 0.28013 , Pearson Correlation: 0.81742 with p-value: 0.00E+00 , Concordance Index: 0.87564\n",
            "Training at Epoch 89 iteration 0 with loss 0.12631. Total time 1.38888 hours\n",
            "Training at Epoch 89 iteration 100 with loss 0.11592. Total time 1.39722 hours\n",
            "Validation at Epoch 89 with loss:0.13707, MSE: 0.26045 , Pearson Correlation: 0.83483 with p-value: 0.00E+00 , Concordance Index: 0.88343\n",
            "Training at Epoch 90 iteration 0 with loss 0.20218. Total time 1.40472 hours\n",
            "Training at Epoch 90 iteration 100 with loss 0.16930. Total time 1.41305 hours\n",
            "Validation at Epoch 90 with loss:0.15097, MSE: 0.27635 , Pearson Correlation: 0.82040 with p-value: 0.00E+00 , Concordance Index: 0.87939\n",
            "Training at Epoch 91 iteration 0 with loss 0.13039. Total time 1.42055 hours\n",
            "Training at Epoch 91 iteration 100 with loss 0.15662. Total time 1.42861 hours\n",
            "Validation at Epoch 91 with loss:0.19687, MSE: 0.27421 , Pearson Correlation: 0.81772 with p-value: 0.00E+00 , Concordance Index: 0.87700\n",
            "Training at Epoch 92 iteration 0 with loss 0.11544. Total time 1.43611 hours\n",
            "Training at Epoch 92 iteration 100 with loss 0.08972. Total time 1.44416 hours\n",
            "Validation at Epoch 92 with loss:0.30009, MSE: 0.26348 , Pearson Correlation: 0.82545 with p-value: 0.00E+00 , Concordance Index: 0.88310\n",
            "Training at Epoch 93 iteration 0 with loss 0.17476. Total time 1.45138 hours\n",
            "Training at Epoch 93 iteration 100 with loss 0.09330. Total time 1.45972 hours\n",
            "Validation at Epoch 93 with loss:0.12362, MSE: 0.26814 , Pearson Correlation: 0.82720 with p-value: 0.00E+00 , Concordance Index: 0.88034\n",
            "Training at Epoch 94 iteration 0 with loss 0.13731. Total time 1.46694 hours\n",
            "Training at Epoch 94 iteration 100 with loss 0.15235. Total time 1.47527 hours\n",
            "Validation at Epoch 94 with loss:0.42636, MSE: 0.27094 , Pearson Correlation: 0.82378 with p-value: 0.00E+00 , Concordance Index: 0.87867\n",
            "Training at Epoch 95 iteration 0 with loss 0.18345. Total time 1.48277 hours\n",
            "Training at Epoch 95 iteration 100 with loss 0.12393. Total time 1.49083 hours\n",
            "Validation at Epoch 95 with loss:0.21669, MSE: 0.26324 , Pearson Correlation: 0.82594 with p-value: 0.00E+00 , Concordance Index: 0.87493\n",
            "Training at Epoch 96 iteration 0 with loss 0.11397. Total time 1.49833 hours\n",
            "Training at Epoch 96 iteration 100 with loss 0.19246. Total time 1.50666 hours\n",
            "Validation at Epoch 96 with loss:0.21150, MSE: 0.27396 , Pearson Correlation: 0.82083 with p-value: 0.00E+00 , Concordance Index: 0.88157\n",
            "Training at Epoch 97 iteration 0 with loss 0.11868. Total time 1.51361 hours\n",
            "Training at Epoch 97 iteration 100 with loss 0.17348. Total time 1.52194 hours\n",
            "Validation at Epoch 97 with loss:0.20979, MSE: 0.29085 , Pearson Correlation: 0.81898 with p-value: 0.00E+00 , Concordance Index: 0.86941\n",
            "Training at Epoch 98 iteration 0 with loss 0.18966. Total time 1.52888 hours\n",
            "Training at Epoch 98 iteration 100 with loss 0.16872. Total time 1.53722 hours\n",
            "Validation at Epoch 98 with loss:0.20956, MSE: 0.26093 , Pearson Correlation: 0.82656 with p-value: 0.00E+00 , Concordance Index: 0.88399\n",
            "Training at Epoch 99 iteration 0 with loss 0.12118. Total time 1.54444 hours\n",
            "Training at Epoch 99 iteration 100 with loss 0.13542. Total time 1.55277 hours\n",
            "Validation at Epoch 99 with loss:0.16080, MSE: 0.24635 , Pearson Correlation: 0.83670 with p-value: 0.00E+00 , Concordance Index: 0.88473\n",
            "Training at Epoch 100 iteration 0 with loss 0.09867. Total time 1.56 hours\n",
            "Training at Epoch 100 iteration 100 with loss 0.13513. Total time 1.56861 hours\n",
            "Validation at Epoch 100 with loss:0.30832, MSE: 0.28044 , Pearson Correlation: 0.81083 with p-value: 0.00E+00 , Concordance Index: 0.87053\n",
            "--- Go for Testing ---\n",
            "Testing MSE: 0.25224560355086567 , Pearson Correlation: 0.8316488470966871 with p-value: 0.00E+00 , Concordance Index: 0.8776819570939163\n",
            "--- Training Finished ---\n"
          ]
        },
        {
          "output_type": "display_data",
          "data": {
            "text/plain": [
              "<Figure size 640x480 with 1 Axes>"
            ],
            "image/png": "[encoded data removed]"
          },
          "metadata": {}
        }
      ]
    },
    {
      "cell_type": "code",
      "source": [
        "X_drug = ['CC1=C2C=C(C=CC2=NN1)C3=CC(=CN=C3)OCC(CC4=CC=CC=C4)N']\n",
        "X_target = ['MKKFFDSRREQGGSGLGSGSSGGGGSTSGLGSGYIGRVFGIGRQQVTVDEVLAEGGFAIVFLVRTSNGMKCALKRMFVNNEHDLQVCKREIQIMRDLSGHKNIVGYIDSSINNVSSGDVWEVLILMDFCRGGQVVNLMNQRLQTGFTENEVLQIFCDTCEAVARLHQCKTPIIHRDLKVENILLHDRGHYVLCDFGSATNKFQNPQTEGVNAVEDEIKKYTTLSYRAPEMVNLYSGKIITTKADIWALGCLLYKLCYFTLPFGESQVAICDGNFTIPDNSRYSQDMHCLIRYMLEPDPDKRPDIYQVSYFSFKLLKKECPIPNVQNSPIPAKLPEPVKASEAAAKKTQPKARLTDPIPTTETSIAPRQRPKAGQTQPNPGILPIQPALTPRKRATVQPPPQAAGSSNQPGLLASVPQPKPQAPPSQPLPQTQAKQPQAPPTPQQTPSTQAQGLPAQAQATPQHQQQLFLKQQQQQQQPPPAQQQPAGTFYQQQQAQTQQFQAVHPATQKPAIAQFPVVSQGGSQQQLMQNFYQQQQQQQQQQQQQQLATALHQQQLMTQQAALQQKPTMAAGQQPQPQPAAAPQPAPAQEPAIQAPVRQQPKVQTTPPPAVQGQKVGSLTPPSSPKTQRAGHRRILSDVTHSAVFGVPASKSTQLLQAAAAEASLNKSKSATTTPSGSPRTSQQNVYNPSEGSTWNPFDDDNFSKLTAEELLNKDFAKLGEGKHPEKLGGSAESLIPGFQSTQGDAFATTSFSAGTAEKRKGGQTVDSGLPLLSVSDPFIPLQVPDAPEKLIEGLKSPDTSLLLPDLLPMTDPFGSTSDAVIEKADVAVESLIPGLEPPVPQRLPSQTESVTSNRTDSLTGEDSLLDCSLLSNPTTDLLEEFAPTAISAPVHKAAEDSNLISGFDVPEGSDKVAEDEFDPIPVLITKNPQGGHSRNSSGSSESSLPNLARSLLLVDQLIDL']\n",
        "y = [7.365]\n",
        "X_pred = utils.data_process(X_drug, X_target, y,\n",
        "                                drug_encoding, target_encoding,\n",
        "                                split_method='no_split')\n",
        "y_pred = model.predict(X_pred)\n",
        "print('The predicted score is ' + str(y_pred))"
      ],
      "metadata": {
        "colab": {
          "base_uri": "https://localhost:8080/"
        },
        "id": "mBz54eqWVuQp",
        "outputId": "cad7399d-d9d5-48e2-c18c-bbbdd49af90f"
      },
      "execution_count": null,
      "outputs": [
        {
          "output_type": "stream",
          "name": "stdout",
          "text": [
            "Drug Target Interaction Prediction Mode...\n",
            "in total: 1 drug-target pairs\n",
            "encoding drug...\n",
            "unique drugs: 1\n",
            "encoding protein...\n",
            "unique target sequence: 1\n",
            "splitting dataset...\n",
            "do not do train/test split on the data for already splitted data\n",
            "predicting...\n",
            "The predicted score is [6.117330074310303]\n"
          ]
        }
      ]
    },
    {
      "cell_type": "code",
      "source": [
        "t, t_name = dataset.load_SARS_CoV2_Protease_3CL()\n",
        "print('Target Name: ' + t_name)\n",
        "print('Amino Acid Sequence: '+ t)"
      ],
      "metadata": {
        "colab": {
          "base_uri": "https://localhost:8080/"
        },
        "id": "8NI7oljhWB4K",
        "outputId": "68baa008-0744-4002-ea6b-635e17f025bb"
      },
      "execution_count": null,
      "outputs": [
        {
          "output_type": "stream",
          "name": "stdout",
          "text": [
            "Target Name: SARS-CoV2 3CL Protease\n",
            "Amino Acid Sequence: SGFRKMAFPSGKVEGCMVQVTCGTTTLNGLWLDDVVYCPRHVICTSEDMLNPNYEDLLIRKSNHNFLVQAGNVQLRVIGHSMQNCVLKLKVDTANPKTPKYKFVRIQPGQTFSVLACYNGSPSGVYQCAMRPNFTIKGSFLNGSCGSVGFNIDYDCVSFCYMHHMELPTGVHAGTDLEGNFYGPFVDRQTAQAAGTDTTITVNVLAWLYAAVINGDRWFLNRFTTTLNDFNLVAMKYNYEPLTQDHVDILGPLSAQTGIAVLDMCASLKELLQNGMNGRTILGSALLEDEFTPFDVVRQCSGVTFQ\n"
          ]
        }
      ]
    },
    {
      "cell_type": "code",
      "source": [
        "r, r_name, r_pubchem_cid = dataset.load_antiviral_drugs()\n",
        "print('Repurposing Drug 1 Name: ' + r_name[0])\n",
        "print('Repurposing Drug 1 SMILES: ' + r[0])\n",
        "print('Repurposing Drug 1 Pubchem CID: ' + str(r_pubchem_cid[0]))"
      ],
      "metadata": {
        "colab": {
          "base_uri": "https://localhost:8080/"
        },
        "id": "mMGi3WG6WP_i",
        "outputId": "a59166d0-72e8-4bad-9b4e-613c195eedf4"
      },
      "execution_count": null,
      "outputs": [
        {
          "output_type": "stream",
          "name": "stdout",
          "text": [
            "Repurposing Drug 1 Name: Abacavir\n",
            "Repurposing Drug 1 SMILES: C1CC1NC2=C3C(=NC(=N2)N)N(C=N3)C4CC(C=C4)CO\n",
            "Repurposing Drug 1 Pubchem CID: 441300\n"
          ]
        }
      ]
    },
    {
      "cell_type": "code",
      "source": [
        "\n",
        "y_pred = models.repurpose(X_repurpose = r, target = t, model = model, drug_names = r_name, target_name = t_name,\n",
        "                          result_folder = \"./result/\", convert_y = True)"
      ],
      "metadata": {
        "colab": {
          "base_uri": "https://localhost:8080/"
        },
        "id": "h8rv9QlhWUIj",
        "outputId": "792886a0-bb38-45d4-eb8d-bfbfdd8f83b7"
      },
      "execution_count": null,
      "outputs": [
        {
          "output_type": "stream",
          "name": "stdout",
          "text": [
            "repurposing...\n",
            "Drug Target Interaction Prediction Mode...\n",
            "in total: 82 drug-target pairs\n",
            "encoding drug...\n",
            "unique drugs: 81\n",
            "encoding protein...\n",
            "unique target sequence: 1\n",
            "Done.\n",
            "predicting...\n",
            "---------------\n",
            "Drug Repurposing Result for SARS-CoV2 3CL Protease\n",
            "+------+----------------------+------------------------+---------------+\n",
            "| Rank |      Drug Name       |      Target Name       | Binding Score |\n",
            "+------+----------------------+------------------------+---------------+\n",
            "|  1   |      Docosanol       | SARS-CoV2 3CL Protease |      0.04     |\n",
            "|  2   |      Boceprevir      | SARS-CoV2 3CL Protease |      2.05     |\n",
            "|  3   |     Glecaprevir      | SARS-CoV2 3CL Protease |     20.23     |\n",
            "|  4   |   Podophyllotoxin    | SARS-CoV2 3CL Protease |     55.62     |\n",
            "|  5   |     Methisazone      | SARS-CoV2 3CL Protease |     98.14     |\n",
            "|  6   |    Fosamprenavir     | SARS-CoV2 3CL Protease |     137.06    |\n",
            "|  7   |      Sofosbuvir      | SARS-CoV2 3CL Protease |     148.39    |\n",
            "|  8   |     Dolutegravir     | SARS-CoV2 3CL Protease |     249.51    |\n",
            "|  9   |      Darunavir       | SARS-CoV2 3CL Protease |     278.81    |\n",
            "|  10  |     Bictegravir      | SARS-CoV2 3CL Protease |     285.10    |\n",
            "checkout ./result/repurposing.txt for the whole list\n"
          ]
        }
      ]
    },
    {
      "cell_type": "code",
      "source": [
        "t, d = dataset.load_IC50_1000_Samples()"
      ],
      "metadata": {
        "colab": {
          "base_uri": "https://localhost:8080/"
        },
        "id": "hSGoOmWTWalQ",
        "outputId": "c76dc043-8f8a-4212-e7e3-a6b8815cba62"
      },
      "execution_count": null,
      "outputs": [
        {
          "output_type": "stream",
          "name": "stdout",
          "text": [
            "Downloading...\n"
          ]
        }
      ]
    },
    {
      "cell_type": "code",
      "source": [
        "y_pred = models.virtual_screening(d, t, model)"
      ],
      "metadata": {
        "colab": {
          "base_uri": "https://localhost:8080/"
        },
        "id": "AJfDBV6ZWfTb",
        "outputId": "b47e0aa7-2476-4fea-b779-053605b838a3"
      },
      "execution_count": null,
      "outputs": [
        {
          "output_type": "stream",
          "name": "stdout",
          "text": [
            "virtual screening...\n",
            "Drug Target Interaction Prediction Mode...\n",
            "in total: 100 drug-target pairs\n",
            "encoding drug...\n",
            "unique drugs: 100\n",
            "encoding protein...\n",
            "unique target sequence: 91\n",
            "Done.\n",
            "predicting...\n",
            "---------------\n",
            "Virtual Screening Result\n",
            "+------+-----------+-------------+---------------+\n",
            "| Rank | Drug Name | Target Name | Binding Score |\n",
            "+------+-----------+-------------+---------------+\n",
            "|  1   |  Drug 55  |  Target 55  |      7.08     |\n",
            "|  2   |  Drug 90  |  Target 90  |      6.84     |\n",
            "|  3   |  Drug 49  |  Target 49  |      6.79     |\n",
            "|  4   |  Drug 54  |  Target 54  |      6.52     |\n",
            "|  5   |  Drug 21  |  Target 21  |      6.43     |\n",
            "|  6   |  Drug 17  |  Target 17  |      6.25     |\n",
            "|  7   |  Drug 45  |  Target 45  |      6.14     |\n",
            "|  8   |  Drug 59  |  Target 59  |      5.99     |\n",
            "|  9   |  Drug 15  |  Target 15  |      5.96     |\n",
            "|  10  |  Drug 87  |  Target 87  |      5.80     |\n",
            "checkout ./result/virtual_screening.txt for the whole list\n",
            "\n"
          ]
        }
      ]
    },
    {
      "cell_type": "code",
      "source": [
        "model.save_model('./final_model')"
      ],
      "metadata": {
        "id": "RkvTGwD8WjzL"
      },
      "execution_count": null,
      "outputs": []
    },
    {
      "cell_type": "code",
      "source": [
        "model = models.model_pretrained(path_dir = './final_model')\n",
        "model"
      ],
      "metadata": {
        "colab": {
          "base_uri": "https://localhost:8080/"
        },
        "id": "aTHYFLHTWpEB",
        "outputId": "75972dd5-00c8-4a3b-c85b-5986937b1f10"
      },
      "execution_count": null,
      "outputs": [
        {
          "output_type": "execute_result",
          "data": {
            "text/plain": [
              "<DeepPurpose.DTI.DBTA at 0x7d401ce87d30>"
            ]
          },
          "metadata": {},
          "execution_count": 19
        }
      ]
    }
  ]
}